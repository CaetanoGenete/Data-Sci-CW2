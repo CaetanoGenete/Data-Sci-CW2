{
  "cells": [
    {
      "cell_type": "markdown",
      "metadata": {
        "id": "4xHSx8l1tUYN"
      },
      "source": [
        "<a name=\"outline\"></a>\n",
        "\n",
        "## Outline\n",
        "\n",
        "- [Task 1](#task-1): Regression\n",
        "  - [1.1](#q11) Linear regression\n",
        "  - [1.2](#q12) Ridge regression\n",
        "  - [1.3](#q13) Relaxation of Lasso regression\n",
        "- [Task 2](#task-2): Classification\n",
        "  - [2.1](#q21) kNN classifier\n",
        "  - [2.2](#q22) Random forest \n",
        "  - [2.3](#q23) Support vector machine (SVM) \n",
        "- [Task 3](#task-3): Mastery component \n",
        "  - [3.1](#q31) Logistic regression and bagging \n",
        "  - [3.2](#q32) Kernelised SVM classifier "
      ]
    },
    {
      "cell_type": "markdown",
      "metadata": {
        "id": "J3sSxTA3yzhN"
      },
      "source": [
        "<a name=\"task-1\"></a>\n",
        "# Task 1: Regression [^](#outline)\n",
        "\n"
      ]
    },
    {
      "cell_type": "code",
      "execution_count": 1,
      "metadata": {},
      "outputs": [],
      "source": [
        "import pandas as pd\n",
        "import numpy as np\n",
        "import matplotlib.pyplot as plt"
      ]
    },
    {
      "cell_type": "markdown",
      "metadata": {
        "id": "1gY8lFgnyzsF"
      },
      "source": [
        "<a name=\"q11\"></a>\n",
        "\n",
        "## 1.1  [^](#outline)\n",
        "\n"
      ]
    },
    {
      "cell_type": "markdown",
      "metadata": {},
      "source": [
        "To begin with, the data will be loaded from the .csv files and transformed accordingly. The first transformation is to standardise the data, ensuring consistency. The following, general, method is used:\n",
        "\n",
        "$$\n",
        "X_{std} = \\frac{X - \\mu}{\\sigma}\n",
        "$$\n",
        "\n",
        "Where $\\mu$ and $\\sigma$ are the mean and standard deviation of $X$, respectively."
      ]
    },
    {
      "cell_type": "code",
      "execution_count": 2,
      "metadata": {},
      "outputs": [],
      "source": [
        "def standardise(X):\n",
        "    mu = np.mean(X, 0)\n",
        "    sigma = np.std(X, 0)\n",
        "    X_std = (X - mu) / sigma\n",
        "    return X_std"
      ]
    },
    {
      "cell_type": "code",
      "execution_count": 3,
      "metadata": {},
      "outputs": [],
      "source": [
        "def read_csv(path_to_csv):\n",
        "    #File extension must be .csv\n",
        "    assert(path_to_csv[-4:] == \".csv\")\n",
        "    csv_file = pd.read_csv(path_to_csv)\n",
        "    \n",
        "    X = csv_file.iloc[:, :-1].to_numpy()\n",
        "    y = csv_file.iloc[:, -1].to_numpy().reshape(-1, 1)\n",
        "\n",
        "    return X, y"
      ]
    },
    {
      "cell_type": "markdown",
      "metadata": {},
      "source": [
        "The next transformation is to augment the predictors matrix to allow for simpler optimisation of the intercept. Indeed, for linear regression tasks the prediction is of the form:\n",
        "\n",
        "$$\n",
        "f_{LR}(\\mathbf{x}, \\boldsymbol{\\beta}) = \\beta_0 + \\beta_1 x_1 + \\dots \\beta_p x_p = \\begin{bmatrix} 1 \\\\ \\mathbf{x} \\end{bmatrix} \\cdot \\begin{bmatrix}\\beta_0\\\\ \\boldsymbol{\\beta_1} \\end{bmatrix} \n",
        "$$\n",
        "\n",
        "Where $\\boldsymbol{\\beta_1} = (\\beta_1 \\dots \\beta_p)^T$ and $\\mathbf{x} = (x_1, \\dots, x_p)$. This way, by 'augmenting' $X$ such that all of its rows are preceded by a $1$, computations later down the line may be simplified."
      ]
    },
    {
      "cell_type": "code",
      "execution_count": 4,
      "metadata": {},
      "outputs": [],
      "source": [
        "def augment(X):\n",
        "    rows, cols = X.shape\n",
        "\n",
        "    return np.hstack((np.ones((rows, 1)), X))"
      ]
    },
    {
      "cell_type": "code",
      "execution_count": 5,
      "metadata": {},
      "outputs": [],
      "source": [
        "chem_X_train_raw, chem_y_train = read_csv(\"../res/chemistry_samples.csv\")\n",
        "\n",
        "chem_X_train_std = standardise(chem_X_train_raw)\n",
        "chem_X_train = augment(chem_X_train_std)\n"
      ]
    },
    {
      "cell_type": "code",
      "execution_count": 174,
      "metadata": {},
      "outputs": [],
      "source": [
        "chem_X_test_raw, chem_y_test = read_csv(\"../res/chemistry_test.csv\")\n",
        "\n",
        "chem_X_test_std = standardise(chem_X_test_raw)\n",
        "chem_X_test = augment(chem_X_test_std)"
      ]
    },
    {
      "cell_type": "markdown",
      "metadata": {},
      "source": [
        "Choosing the mean squared error as the metric for the accuracy of the linear model, one may write its cost function as:\n",
        "\n",
        "$$\n",
        "L_{MSE}(\\mathbf{y}, \\mathbf{\\hat{y}}) = \\frac{||\\mathbf{y} - \\mathbf{\\hat{y}}||^2}{N}\n",
        "$$\n",
        "\n",
        "Of course, for the regression model:\n",
        "\n",
        "$$\n",
        "L_{MSE}(\\mathbf{y}, f_{LR}(\\mathbf{x}, \\boldsymbol{\\beta})) = \\frac{||\\mathbf{y} - \\mathbf{X} \\boldsymbol{\\beta}||^2}{N}\n",
        "$$\n",
        "\n",
        "Taking the derivative with respect to $\\boldsymbol{\\beta}$ gives:\n",
        "\n",
        "$$\n",
        "-\\frac{2}{N}[\\mathbf{X}^T \\boldsymbol{y} - \\mathbf{X}^T\\mathbf{X} \\boldsymbol{\\beta}]\n",
        "$$\n",
        "\n",
        "Provides the location of an extremum at:\n",
        "\n",
        "$$\n",
        "\\boldsymbol{\\beta}^* = (\\mathbf{X}^T \\mathbf{X})^{-1} \\mathbf{X}^T \\mathbf{y}\n",
        "$$\n",
        "\n",
        "And the hessian:\n",
        "\n",
        "$$\n",
        "H =\\frac{2}{N}\\mathbf{X}^T \\mathbf{X}\n",
        "$$\n",
        "\n",
        "The hessian for the mean squared error, as shown above, is positive definite. $v^T X^TX v = (Xv)^T (Xv) = ||Xv||^2 \\geq 0$. Therefore, the value of $L_{MSE}$ achieved at $\\beta^*$ is a minimum since $L_{MSE}$ is convex, with respect to $\\boldsymbol{\\beta}$."
      ]
    },
    {
      "cell_type": "code",
      "execution_count": 175,
      "metadata": {},
      "outputs": [],
      "source": [
        "def est_beta_LS(X, y):\n",
        "    return np.linalg.solve(np.transpose(X) @ X, np.transpose(X) @ y)"
      ]
    },
    {
      "cell_type": "code",
      "execution_count": 176,
      "metadata": {},
      "outputs": [],
      "source": [
        "def lin_pred(X, beta):\n",
        "    return X @ beta"
      ]
    },
    {
      "cell_type": "code",
      "execution_count": 177,
      "metadata": {},
      "outputs": [],
      "source": [
        "def r2_score(y_test, y_pred):\n",
        "  numerator = np.sum((y_test - y_pred)**2)\n",
        "  y_avg = np.mean(y_test)\n",
        "  denominator = np.sum((y_test - y_avg)**2)\n",
        "  \n",
        "  return 1 - numerator/denominator"
      ]
    },
    {
      "cell_type": "code",
      "execution_count": 178,
      "metadata": {},
      "outputs": [],
      "source": [
        "def mse(y_test, y_pred):\n",
        "    return np.square(y_test - y_pred).mean()"
      ]
    },
    {
      "cell_type": "code",
      "execution_count": 179,
      "metadata": {},
      "outputs": [
        {
          "name": "stdout",
          "output_type": "stream",
          "text": [
            "beta:\n",
            " [[ 4.13993035e+00]\n",
            " [ 3.49957912e-02]\n",
            " [ 5.37535218e-01]\n",
            " [-1.50813246e-02]\n",
            " [ 2.53095451e-01]\n",
            " [ 4.38729982e-03]\n",
            " [ 5.65182177e-01]\n",
            " [-2.64033733e-01]\n",
            " [-2.53852943e-01]\n",
            " [-7.99453417e-02]\n",
            " [-8.28905840e-04]]\n",
            "In sample R^2: 0.8718259975718016\n",
            "Out of sample R^2: 0.8640737746110231\n"
          ]
        }
      ],
      "source": [
        "ls_beta = est_beta_LS(chem_X_train, chem_y_train)\n",
        "print(\"beta:\\n\", ls_beta)\n",
        "\n",
        "y_pred_in = lin_pred(chem_X_train, ls_beta)\n",
        "y_pred_out = lin_pred(chem_X_test, ls_beta)\n",
        "\n",
        "print(\"In sample R^2:\" , r2_score(chem_y_train, y_pred_in))\n",
        "print(\"Out of sample R^2:\" , r2_score(chem_y_test, y_pred_out))"
      ]
    },
    {
      "cell_type": "markdown",
      "metadata": {},
      "source": [
        "The above results displays clearly, and expectedly, the in sample $R^2$ score as greater than the out of sample. This is simply due to the fact that this was the data on which the linear regression was optimised for, hence better correlation. However, it is interesting, and perhaps relieving, that the correlation of the out of sample data is not too far off; this shows that the model does not overfit for the training data and in fact does a good job at predicting based on its predictors."
      ]
    },
    {
      "cell_type": "code",
      "execution_count": 180,
      "metadata": {},
      "outputs": [
        {
          "data": {
            "text/plain": [
              "<matplotlib.lines.Line2D at 0x1c669a1a4f0>"
            ]
          },
          "execution_count": 180,
          "metadata": {},
          "output_type": "execute_result"
        },
        {
          "data": {
            "image/png": "[encoded data removed]",
            "text/plain": [
              "<Figure size 432x288 with 1 Axes>"
            ]
          },
          "metadata": {
            "needs_background": "light"
          },
          "output_type": "display_data"
        }
      ],
      "source": [
        "plt.title(\"Residue plot for least squares\")\n",
        "plt.xlabel(\"Predictions LS\")\n",
        "plt.ylabel(\"Residues\")\n",
        "plt.scatter(y_pred_out, chem_y_test - y_pred_out, alpha=0.3)\n",
        "plt.axhline(y=0, linestyle=\"--\", color=\"red\")"
      ]
    },
    {
      "cell_type": "markdown",
      "metadata": {
        "id": "gpbJPhupy0Cj"
      },
      "source": [
        "<a name=\"q12\"></a>\n",
        "## 1.2 [^](#outline)"
      ]
    },
    {
      "cell_type": "markdown",
      "metadata": {},
      "source": [
        "The next techinique employed is ridge regression, where the cost is altered slightly to discriminate against larger $\\boldsymbol{\\beta}$'s:\n",
        "\n",
        "$$\n",
        "L_{RIDGE}(\\mathbf{y}, f_{LR}(\\mathbf{x}, \\boldsymbol{\\beta})) = ||\\mathbf{y} - \\mathbf{X} \\boldsymbol{\\beta}||^2 + \\lambda ||\\boldsymbol{\\beta}||^2\n",
        "$$\n",
        "\n",
        "Which, just as for the least squares regression, can be differentiated to produce:\n",
        "\n",
        "$$\n",
        "\\nabla_{ \\boldsymbol{\\beta}}L_{RIDGE} = -2\\mathbf{X}^T\\mathbf{y} + 2(\\mathbf{X}^T\\mathbf{X} + \\lambda \\mathbf{I})\\boldsymbol{\\beta}\n",
        "$$\n",
        "\n",
        "Which is zero when:\n",
        "\n",
        "$$\n",
        "\\boldsymbol{\\beta}^* = (\\mathbf{X}^T \\mathbf{X} + \\lambda I)^{-1} \\mathbf{X}^T y\n",
        "$$\n",
        "\n",
        "Differentiating again gives the hessian of this particular cost function to be:\n",
        "\n",
        "$$\n",
        "\\mathbf{X}^T \\mathbf{X} + \\lambda I\n",
        "$$\n",
        "\n",
        "Which is clearly positive definite, as both terms are positive definite. Once again, ensuring $\\boldsymbol{\\beta}^*$ is a minimum.\n",
        "\n",
        "One stark different with this model, compared to least squares, is the additional degree of freedom $\\lambda$ which also needs to be optimised such that it fits the data best."
      ]
    },
    {
      "cell_type": "code",
      "execution_count": 181,
      "metadata": {},
      "outputs": [],
      "source": [
        "def est_beta_ridge(X, y, penalty):\n",
        "    rows, cols = X.shape\n",
        "    \n",
        "    I = np.identity(cols)\n",
        "    I[0, 0] = 0\n",
        "\n",
        "    beta_ridge = np.linalg.solve(np.transpose(X) @ X + penalty * I, np.transpose(X) @ y)\n",
        "    return beta_ridge"
      ]
    },
    {
      "cell_type": "markdown",
      "metadata": {},
      "source": [
        "To solve the issue of choosing an optimal $\\lambda$, T-fold validation will be used on the training data. To avoid overfitting, the data within the folds will be randomly chosen (without replacement) as to ensure the model is not optimised for the ordering of the data. For this example, five folds will be used."
      ]
    },
    {
      "cell_type": "code",
      "execution_count": 182,
      "metadata": {},
      "outputs": [],
      "source": [
        "np.random.seed(1337)\n",
        "\n",
        "folds_count = 5\n",
        "chem_indicies = np.random.permutation(np.arange(len(chem_X_train)))\n",
        "chem_fold_indicies = np.array_split(chem_indicies, folds_count)\n"
      ]
    },
    {
      "cell_type": "code",
      "execution_count": 183,
      "metadata": {},
      "outputs": [],
      "source": [
        "#Accepts as input:\n",
        "#folds: 2-D array of indicies representing segments of training data\n",
        "#X: training data predictors\n",
        "#y: training data results\n",
        "#estimate_func: function which takes in training data and predictors of testing data\n",
        "#and returns prediction of results for testing data\n",
        "#validation_func: function which takes in actual results and predictions then returns\n",
        "#a score based on accuracy of prediction \n",
        "def cross_validate(folds, X_train, y_train, estimate_func, validation_func, *est_args):\n",
        "    mse_acc = 0\n",
        "    for i in range(len(folds)):\n",
        "        val_indexes = folds[i]\n",
        "        train_indexes = list(set(range(y_train.shape[0])) - set(val_indexes))\n",
        "        \n",
        "        X_train_i = X_train[train_indexes, :]\n",
        "        y_train_i = y_train[train_indexes]\n",
        "\n",
        "        X_val_i = X_train[val_indexes, :] # <- SOLUTION\n",
        "        y_val_i = y_train[val_indexes] # <- SOLUTION\n",
        "\n",
        "        pred = estimate_func(X_train_i, y_train_i, X_val_i, *est_args)\n",
        "        mse_acc += validation_func(pred, y_val_i)\n",
        "\n",
        "    # Return the average score\n",
        "    return mse_acc / len(folds) # <- SOLUTION"
      ]
    },
    {
      "cell_type": "code",
      "execution_count": 184,
      "metadata": {},
      "outputs": [],
      "source": [
        "def scan_lambda(lambda_set, folds, X, y, estimate_func, validation_func, *est_args):\n",
        "    errors = np.zeros(len(lambda_set))\n",
        "\n",
        "    for i, lambda_var in enumerate(lambda_set):\n",
        "        errors[i] = cross_validate(folds, X, y, estimate_func, validation_func, lambda_var, *est_args)\n",
        "\n",
        "    return errors "
      ]
    },
    {
      "cell_type": "code",
      "execution_count": 185,
      "metadata": {},
      "outputs": [],
      "source": [
        "def ridge_pred(X_train, y_train, X_test, penalty):\n",
        "    return lin_pred(X_test, est_beta_ridge(X_train, y_train, penalty))"
      ]
    },
    {
      "cell_type": "code",
      "execution_count": 186,
      "metadata": {},
      "outputs": [
        {
          "data": {
            "image/png": "[encoded data removed]",
            "text/plain": [
              "<Figure size 432x288 with 1 Axes>"
            ]
          },
          "metadata": {
            "needs_background": "light"
          },
          "output_type": "display_data"
        },
        {
          "name": "stdout",
          "output_type": "stream",
          "text": [
            "Approximation of optimal lambda: 3.7600000000000002\n"
          ]
        }
      ],
      "source": [
        "samples = 1001\n",
        "init_min = 0    #first lambda to check in first pass\n",
        "init_max = 10   #second lambda to check in second pass\n",
        "course_lambda_set = np.linspace(init_min, init_max, samples)\n",
        "\n",
        "#calculation of lambda interval used by 'scan_lambda'\n",
        "lambda_step = (init_max - init_min) / (samples - 1)\n",
        "\n",
        "course_errors = scan_lambda(\n",
        "    course_lambda_set,\n",
        "    chem_fold_indicies, \n",
        "    chem_X_train, \n",
        "    chem_y_train,\n",
        "    ridge_pred,\n",
        "    mse)\n",
        "\n",
        "plt.figure()\n",
        "plt.title(\"Scan of $\\\\langle MSE \\\\rangle$ of ridge predictor to 2 decimal point precision\")\n",
        "plt.xlabel(\"$\\lambda$\")\n",
        "plt.ylabel(\"$\\\\langle MSE \\\\rangle$\")\n",
        "plt.plot(course_lambda_set, course_errors)\n",
        "plt.show()\n",
        "\n",
        "course_lambda = course_lambda_set[np.argmin(course_errors)]\n",
        "print(\"Approximation of optimal lambda:\", course_lambda)"
      ]
    },
    {
      "cell_type": "markdown",
      "metadata": {},
      "source": [
        "The above graph gives adequate evidence of an 'optimal' $\\lambda$ for this sort of problem. Indeed, the shape of the graph is convex, although this may be due to the relatively low (0.01) increment of $\\lambda$. However, some analysis indicates that values of lambda too great or too small are undesirable (lead to worse predictive power), supporting the shape of the graph above. Below it will be shown that this is a problem of variance vs bias."
      ]
    },
    {
      "cell_type": "code",
      "execution_count": 187,
      "metadata": {},
      "outputs": [
        {
          "data": {
            "image/png": "[encoded data removed]",
            "text/plain": [
              "<Figure size 432x288 with 1 Axes>"
            ]
          },
          "metadata": {
            "needs_background": "light"
          },
          "output_type": "display_data"
        },
        {
          "name": "stdout",
          "output_type": "stream",
          "text": [
            "Minimum mean squared error:  0.18767646836828572\n",
            "Further refinement of lambda:  3.7581200000000003\n"
          ]
        }
      ],
      "source": [
        "fine_lambda_set = np.linspace(\n",
        "    course_lambda - lambda_step/2, \n",
        "    course_lambda + lambda_step/2, \n",
        "    samples)\n",
        "\n",
        "fine_errors = scan_lambda(\n",
        "    fine_lambda_set,\n",
        "    chem_fold_indicies, \n",
        "    chem_X_train,\n",
        "    chem_y_train,\n",
        "    ridge_pred,\n",
        "    mse)\n",
        "\n",
        "plt.figure()\n",
        "plt.title(\"Scan of $\\\\langle MSE \\\\rangle$ of ridge predictor to 5 decimal point precision\")\n",
        "plt.xlabel(\"$\\lambda$\")\n",
        "plt.ylabel(\"$\\\\langle MSE \\\\rangle$\")\n",
        "plt.plot(fine_lambda_set, fine_errors)\n",
        "plt.show()\n",
        "\n",
        "fine_lambda = fine_lambda_set[np.argmin(fine_errors)]\n",
        "print(\"Minimum mean squared error: \", np.min(fine_errors))\n",
        "print(\"Further refinement of lambda: \", fine_lambda)"
      ]
    },
    {
      "cell_type": "markdown",
      "metadata": {},
      "source": [
        "One may calculate the bias of the ridge regressor to be:\n",
        "\n",
        "$$\n",
        "\\text{bias}(\\boldsymbol{\\beta}) = -\\lambda (\\mathbf{X}^T \\mathbf{X} + \\lambda \\mathbf{I})^{-1} \\boldsymbol{\\beta}\n",
        "$$\n",
        "\n",
        "From this, it is quite clear that as $\\lambda \\to 0$ the least squares regression is recovered, leading to zero bias; on the other hand, in the limit to infinity, the variance tends to $-\\boldsymbol{\\beta}$.\n",
        "\n",
        "Since this is vector quantity, to get a better grasp of the data as a whole, the 2-norm of this variance result will be plotted below."
      ]
    },
    {
      "cell_type": "code",
      "execution_count": 188,
      "metadata": {},
      "outputs": [
        {
          "data": {
            "image/png": "[encoded data removed]",
            "text/plain": [
              "<Figure size 432x288 with 1 Axes>"
            ]
          },
          "metadata": {
            "needs_background": "light"
          },
          "output_type": "display_data"
        }
      ],
      "source": [
        "def ridge_bias(X, y, penalty):\n",
        "    rows, cols = X.shape\n",
        "\n",
        "    I = np.identity(cols)\n",
        "    I[0, 0] = 0\n",
        "\n",
        "    return -penalty * np.linalg.solve(X.T @ X + penalty * I, est_beta_ridge(X, y, penalty))\n",
        "\n",
        "biases = np.zeros(len(course_lambda_set))\n",
        "for i, penalty in enumerate(course_lambda_set):\n",
        "    bias = ridge_bias(chem_X_train, chem_y_train, penalty)\n",
        "\n",
        "    biases[i] = np.sqrt(bias.T @ bias)\n",
        "\n",
        "plt.figure()\n",
        "plt.title(\"Bias of ridge regression\")\n",
        "plt.xlabel(\"$\\lambda$\")\n",
        "plt.ylabel(\"norm of bias\")\n",
        "plt.plot(course_lambda_set, biases)\n",
        "plt.show()\n"
      ]
    },
    {
      "cell_type": "markdown",
      "metadata": {},
      "source": [
        "The plot above affirms the analysis, showing a linear increase in the 2-norm of the bias as $\\lambda$ increases. However, a quick calculation spits out the variance of this model to be:\n",
        "\n",
        "$$\n",
        "\\text{var}(\\boldsymbol{\\beta}) = \\sigma^2 \\mathbf{V} \\left[\\text{diag}\\left(\\frac{d_1}{(d_1 + \\lambda)^2}, \\dots, \\frac{d_n}{(d_n + \\lambda)^2}\\right) \\right]\\mathbf{V}^T\n",
        "$$\n",
        "\n",
        "Where $\\mathbf{V}$ satisfies $\\mathbf{VDV}^T = \\mathbf{X}^T\\mathbf{X}$ and $\\mathbf{D} =$ diag($d_1, \\dots, d_n$)\n",
        "\n",
        "The above provides insight into the behavious of the variance as $\\lambda \\to\\infty$, the sandwiched diagonal matrix's entries tend to zero and the variance follows suit. It is also quite clear to see that the variance decreases as quadratic speed. Taking the determinant of this matrix provides a scalar metric for the overall variance of the data.\n",
        "\n",
        "$$\n",
        "|\\text{var}(\\boldsymbol{\\beta})| = \\sigma^2 |\\mathbf{V}|\\left| \\left[\\text{diag}\\left(\\frac{d_1}{(d_1 + \\lambda)^2}, \\dots, \\frac{d_n}{(d_n + \\lambda)^2}\\right) \\right]\\right||\\mathbf{V}^T|\n",
        "$$\n",
        "\n",
        "Since $\\mathbf{V}^{-1} = \\mathbf{V}^T$, the above simplifies to:\n",
        "\n",
        "$$\n",
        "|\\text{var}(\\boldsymbol{\\beta})| = \\sigma^2 \\prod_{i=1}^n\\frac{d_i}{(d_i + \\lambda)^2}\n",
        "$$\n",
        "\n",
        "\n"
      ]
    },
    {
      "cell_type": "code",
      "execution_count": 189,
      "metadata": {},
      "outputs": [
        {
          "data": {
            "image/png": "[encoded data removed]",
            "text/plain": [
              "<Figure size 432x288 with 1 Axes>"
            ]
          },
          "metadata": {
            "needs_background": "light"
          },
          "output_type": "display_data"
        }
      ],
      "source": [
        "d, V = np.linalg.eig(chem_X_train.T @ chem_X_train)\n",
        "\n",
        "ridge_variances = [np.prod(d/(d + penalty)**2) for penalty in course_lambda_set]\n",
        "\n",
        "plt.figure()\n",
        "plt.title(\"Variance of ridge regression\")\n",
        "plt.xlabel(\"$\\lambda$\")\n",
        "plt.ylabel(\"determinant of variance\")\n",
        "plt.plot(course_lambda_set, ridge_variances)\n",
        "plt.show()\n"
      ]
    },
    {
      "cell_type": "markdown",
      "metadata": {},
      "source": [
        "As can be seen, the variance decreases as $\\lambda$ increases. The game is then played to find a balance between variance and bias."
      ]
    },
    {
      "cell_type": "code",
      "execution_count": 299,
      "metadata": {},
      "outputs": [
        {
          "name": "stdout",
          "output_type": "stream",
          "text": [
            "[[ 4.13993035e+00]\n",
            " [ 3.71239257e-02]\n",
            " [ 5.35081436e-01]\n",
            " [-1.67470150e-02]\n",
            " [ 2.52731065e-01]\n",
            " [ 5.01197604e-03]\n",
            " [ 5.64526226e-01]\n",
            " [-2.62666550e-01]\n",
            " [-2.51839763e-01]\n",
            " [-7.95135185e-02]\n",
            " [ 1.41383221e-03]]\n",
            "magnitude^2 of optimal beta1:  0.8093001439245369\n",
            "Out of sample MSE: 0.1876669021929534\n",
            "In sample R^2: 0.8718243876874945\n",
            "Out of sample R^2: 0.8640843070731236\n"
          ]
        }
      ],
      "source": [
        "ridge_beta = est_beta_ridge(chem_X_train, chem_y_train, fine_lambda)\n",
        "print(ridge_beta)\n",
        "\n",
        "mag2_beta = np.sum((ridge_beta[1:])**2)\n",
        "print(\"magnitude^2 of optimal beta1: \", mag2_beta)\n",
        "\n",
        "print(\"Out of sample MSE:\", mse(chem_y_test, lin_pred(chem_X_test, ridge_beta)))\n",
        "\n",
        "print(\"In sample R^2:\", r2_score(chem_y_train, lin_pred(chem_X_train, ridge_beta)))\n",
        "print(\"Out of sample R^2:\", r2_score(chem_y_test, lin_pred(chem_X_test, ridge_beta)))"
      ]
    },
    {
      "cell_type": "markdown",
      "metadata": {},
      "source": [
        "It is clear to see from the data above that the ridge estimator does a decent job, when considering the $R^2$ score. It is, however, very similar to the least squares method in terms of $R^2$ score. In fact, the scores for both out of sample and in sample differ by less than $10^{-5}$. This could be due to the fact that the least squares regression is already a good descriptor of the data."
      ]
    },
    {
      "cell_type": "code",
      "execution_count": 191,
      "metadata": {},
      "outputs": [
        {
          "data": {
            "text/plain": [
              "<matplotlib.lines.Line2D at 0x1c669156a60>"
            ]
          },
          "execution_count": 191,
          "metadata": {},
          "output_type": "execute_result"
        },
        {
          "data": {
            "image/png": "[encoded data removed]",
            "text/plain": [
              "<Figure size 432x288 with 1 Axes>"
            ]
          },
          "metadata": {
            "needs_background": "light"
          },
          "output_type": "display_data"
        }
      ],
      "source": [
        "chem_out_pred = lin_pred(chem_X_test, ridge_beta)\n",
        "plt.title(\"Residue plot of ridge regression\")\n",
        "plt.xlabel(\"Prediction ridge\")\n",
        "plt.ylabel(\"Residue\")\n",
        "plt.scatter(chem_out_pred, chem_y_test - chem_out_pred, color=\"red\", alpha=0.3)\n",
        "plt.axhline(y=0, linestyle=\"--\", color = \"red\")"
      ]
    },
    {
      "cell_type": "markdown",
      "metadata": {
        "id": "K9OTrzYly0Oz"
      },
      "source": [
        "<a name=\"q13\"></a>\n",
        "\n",
        "## 1.3 [^](#outline)\n",
        "\n",
        "\n"
      ]
    },
    {
      "cell_type": "markdown",
      "metadata": {},
      "source": [
        "For the final regression task, a lasso model will be employed with cost function:\n",
        "\n",
        "$$\n",
        "f_{LASSO}(\\boldsymbol{\\beta}) = ||\\mathbf{y} - \\mathbf{X}\\boldsymbol{\\beta}||^2 + \\lambda \\sum_{i=1}^p L_c(\\beta_i)\n",
        "$$\n",
        "\n",
        "Where:\n",
        "\n",
        "$$\n",
        "L_c(\\beta) = \\begin{cases}\\frac{\\beta^2}{2} & |\\beta| \\leq c \\\\ c (|\\beta| - \\frac{c}{2}) & \\text{otherwise}\\end{cases}\n",
        "$$\n",
        "\n",
        "Differentiating the above with respect to $\\boldsymbol{\\beta}$ gives:\n",
        "\n",
        "$$\n",
        "\\nabla_{\\boldsymbol{\\beta}}f_{LASSO} = \\frac{-2}{N}[\\mathbf{X}^T y - X^T X \\boldsymbol{\\beta}] + \\lambda \\begin{bmatrix}L'_c(\\beta_1) \\\\ \\vdots \\\\ L'_c(\\beta_p) \\end{bmatrix}\n",
        "$$\n",
        "\n",
        "Where:\n",
        "\n",
        "$$\n",
        "L'_c(\\beta) = \\begin{cases} \\beta & |\\beta| \\leq c \\\\ c \\cdot\\text{sign}{\\beta} & \\text{otherwise}\\end{cases}\n",
        "$$"
      ]
    },
    {
      "cell_type": "code",
      "execution_count": 192,
      "metadata": {
        "id": "JV3UJe2A0IH-"
      },
      "outputs": [],
      "source": [
        "import numpy as np"
      ]
    },
    {
      "cell_type": "code",
      "execution_count": 193,
      "metadata": {
        "id": "jg2TWPoT0J0Z"
      },
      "outputs": [],
      "source": [
        "def huber(beta, c=1e-6):\n",
        "    result = np.where(\n",
        "        np.abs(beta) <= c,        #if\n",
        "        (beta ** 2) / 2,          #then\n",
        "        c * (np.abs(beta) - c/2)) #else\n",
        "    result[0, 0] = 0\n",
        "    \n",
        "    return result\n",
        "  \n",
        "def grad_huber(beta, c=1e-6):\n",
        "    result = np.where(\n",
        "        np.abs(beta) <= c, #if\n",
        "        beta,              #then\n",
        "        c * np.sign(beta)) #else\n",
        "    result[0, 0] = 0\n",
        "\n",
        "    return result"
      ]
    },
    {
      "cell_type": "code",
      "execution_count": 194,
      "metadata": {},
      "outputs": [
        {
          "data": {
            "image/png": "[encoded data removed]",
            "text/plain": [
              "<Figure size 432x288 with 1 Axes>"
            ]
          },
          "metadata": {
            "needs_background": "light"
          },
          "output_type": "display_data"
        },
        {
          "data": {
            "image/png": "[encoded data removed]",
            "text/plain": [
              "<Figure size 432x288 with 1 Axes>"
            ]
          },
          "metadata": {
            "needs_background": "light"
          },
          "output_type": "display_data"
        }
      ],
      "source": [
        "beta = np.linspace(-0.1, 0.1, 1000).reshape(1, -1)\n",
        "\n",
        "plt.figure()\n",
        "plt.title(\"Plot of L_c(\\\\beta)\")\n",
        "plt.xlabel(\"$\\\\beta$\")\n",
        "plt.ylabel(\"$L_c(\\\\beta)$\")\n",
        "plt.plot(beta[0][1:], huber(beta, 0.01)[0, 1:])\n",
        "plt.show()\n",
        "\n",
        "plt.figure()\n",
        "plt.title(\"Plot of gradient of L_c(\\\\beta)\")\n",
        "plt.xlabel(\"$\\\\beta$\")\n",
        "plt.ylabel(\"$L'_c(\\\\beta)$\")\n",
        "plt.plot(beta[0][1:], grad_huber(beta, 0.01)[0, 1:])\n",
        "plt.show()\n",
        "\n",
        "plt.show()"
      ]
    },
    {
      "cell_type": "code",
      "execution_count": 195,
      "metadata": {},
      "outputs": [],
      "source": [
        "def lasso_cost(X, y, beta, penalty, c = 0.001):\n",
        "    return np.square(y - lin_pred(X, beta)).mean() + penalty * np.sum(huber(beta[1:], c))\n"
      ]
    },
    {
      "cell_type": "markdown",
      "metadata": {},
      "source": [
        "The method employed for optimising $\\boldsymbol{\\beta}$ will be a gradient descent, in mathematical terms:\n",
        "\n",
        "$$\n",
        "\\boldsymbol{\\beta}_{n+1} = \\boldsymbol{\\beta}_n - \\eta \\nabla_{\\boldsymbol{\\beta}}f_{LASSO}(\\boldsymbol{\\beta}_n)\n",
        "$$\n",
        "\n",
        "Where $\\eta$ is some small constant. "
      ]
    },
    {
      "cell_type": "code",
      "execution_count": 196,
      "metadata": {
        "id": "U7hMrAxK0LQN"
      },
      "outputs": [],
      "source": [
        "def minimize_ls_huber(X, y, lambd, n_iters=10000, step_size=1e-3):\n",
        "    n, p = X.shape\n",
        "    XX = X.T @ X / n\n",
        "    Xy = X.T @ y / n\n",
        "    \n",
        "    # next line: initialise betas\n",
        "    beta = np.zeros(shape = (p, 1))\n",
        "\n",
        "    # gradient descent (hint: see logistic regression coding task)\n",
        "    for _ in range(n_iters):     \n",
        "        grad = 2 * (XX @ beta - Xy) + lambd * grad_huber(beta, 0.001)\n",
        "        # next line: gradient descent update\n",
        "        beta = beta - grad * step_size\n",
        "      \n",
        "    return beta"
      ]
    },
    {
      "cell_type": "code",
      "execution_count": 197,
      "metadata": {},
      "outputs": [],
      "source": [
        "def lasso_pred(X_train, y_train, X_test, penalty):\n",
        "    return lin_pred(X_test, minimize_ls_huber(X_train, y_train, penalty))"
      ]
    },
    {
      "cell_type": "code",
      "execution_count": 198,
      "metadata": {},
      "outputs": [],
      "source": [
        "lasso_lambda_set = np.linspace(0, 5, 501)\n",
        "laso_errors = scan_lambda(\n",
        "    lasso_lambda_set,\n",
        "    chem_fold_indicies,\n",
        "    chem_X_train,\n",
        "    chem_y_train,\n",
        "    lasso_pred,\n",
        "    mse)"
      ]
    },
    {
      "cell_type": "code",
      "execution_count": 199,
      "metadata": {},
      "outputs": [
        {
          "name": "stdout",
          "output_type": "stream",
          "text": [
            "Optimal lambda: 0.12\n"
          ]
        },
        {
          "data": {
            "image/png": "[encoded data removed]",
            "text/plain": [
              "<Figure size 432x288 with 1 Axes>"
            ]
          },
          "metadata": {
            "needs_background": "light"
          },
          "output_type": "display_data"
        }
      ],
      "source": [
        "best_lambda = lasso_lambda_set[np.argmin(laso_errors)]\n",
        "print(\"Optimal lambda:\", best_lambda)\n",
        "\n",
        "plt.figure()\n",
        "plt.title(\"Scan of $\\\\langle MSE \\\\rangle$ of lasso predictor to 2 decimal point precision\")\n",
        "plt.xlabel(\"$\\\\lambda$\")\n",
        "plt.ylabel(\"$\\\\langle MSE\\\\rangle\")\n",
        "plt.plot(lasso_lambda_set, laso_errors)\n",
        "plt.show()"
      ]
    },
    {
      "cell_type": "markdown",
      "metadata": {},
      "source": [
        "As can be seen above, the value of $\\lambda$ appears to find a minimum (perhaps local) at $\\lambda=0.12$. From here, assuming that locally the function is convex a more precise value can be acquired by reducing the search spread and also decreasing the step. This is a comprise to reduce computational cost."
      ]
    },
    {
      "cell_type": "code",
      "execution_count": 200,
      "metadata": {},
      "outputs": [],
      "source": [
        "finer_lasso_lambda_set = np.linspace(\n",
        "    best_lambda - 0.01/2, \n",
        "    best_lambda + 0.01/2, \n",
        "    101)\n",
        "\n",
        "finer_lasso_errors = scan_lambda(\n",
        "    finer_lasso_lambda_set, \n",
        "    chem_fold_indicies,\n",
        "    chem_X_train,\n",
        "    chem_y_train,\n",
        "    lasso_pred,\n",
        "    mse)"
      ]
    },
    {
      "cell_type": "code",
      "execution_count": 201,
      "metadata": {},
      "outputs": [
        {
          "name": "stdout",
          "output_type": "stream",
          "text": [
            "Optimal lambda: 0.1201\n"
          ]
        },
        {
          "data": {
            "image/png": "[encoded data removed]",
            "text/plain": [
              "<Figure size 432x288 with 1 Axes>"
            ]
          },
          "metadata": {
            "needs_background": "light"
          },
          "output_type": "display_data"
        }
      ],
      "source": [
        "lasso_lambda = finer_lasso_lambda_set[np.argmin(finer_lasso_errors)]\n",
        "print(\"Optimal lambda:\", lasso_lambda)\n",
        "\n",
        "plt.figure()\n",
        "plt.title(\"Scan of $\\\\langle MSE \\\\rangle$ of ridge predictor to 4 decimal point precision\")\n",
        "plt.xlabel(\"$\\\\lambda$\")\n",
        "plt.ylabel(\"$\\\\langle MSE\\\\rangle\")\n",
        "plt.plot(finer_lasso_lambda_set, finer_lasso_errors)\n",
        "plt.show()"
      ]
    },
    {
      "cell_type": "code",
      "execution_count": 202,
      "metadata": {},
      "outputs": [],
      "source": [
        "def minimize_ls_huber_with_costs(X, y, lambd, n_iters=10000, step_size=1e-3):\n",
        "    n, p = X.shape\n",
        "    XX = X.T @ X / n\n",
        "    Xy = X.T @ y / n\n",
        "    \n",
        "    # next line: initialise betas\n",
        "    beta = np.zeros(shape = (p, 1))\n",
        "    costs = []\n",
        "\n",
        "    # gradient descent (hint: see logistic regression coding task)\n",
        "    for i in range(n_iters):\n",
        "        grad = 2 * (XX @ beta - Xy) + lambd * grad_huber(beta, 0.001)\n",
        "        # next line: gradient descent update\n",
        "        beta = beta - grad * step_size\n",
        "\n",
        "        costs.append(lasso_cost(X, y, beta, lambd))\n",
        "      \n",
        "    return beta, costs"
      ]
    },
    {
      "cell_type": "code",
      "execution_count": 298,
      "metadata": {},
      "outputs": [
        {
          "name": "stdout",
          "output_type": "stream",
          "text": [
            "lasso optimal beta:\n",
            " [[ 4.13993034]\n",
            " [ 0.07645867]\n",
            " [ 0.50279028]\n",
            " [-0.04357328]\n",
            " [ 0.25091312]\n",
            " [ 0.01484006]\n",
            " [ 0.5645058 ]\n",
            " [-0.23712774]\n",
            " [-0.21146512]\n",
            " [-0.07147818]\n",
            " [ 0.03310898]]\n",
            "Difference of magnitude of ridge beta and lasso beta:  [[-0.00705889]]\n",
            "In sample MSE: 18.4044038276171\n",
            "Out of sample MSE: 0.18791119586694946\n",
            "In sample R^2 score: 0.8714465693678559\n",
            "Out of sample R^2 score 0.863907380062602\n"
          ]
        },
        {
          "data": {
            "image/png": "[encoded data removed]",
            "text/plain": [
              "<Figure size 432x288 with 1 Axes>"
            ]
          },
          "metadata": {
            "needs_background": "light"
          },
          "output_type": "display_data"
        }
      ],
      "source": [
        "opt_beta, costs = minimize_ls_huber_with_costs(chem_X_train, chem_y_train, best_lambda)\n",
        "pred_train = lin_pred(chem_X_train, opt_beta)\n",
        "pred_test = lin_pred(chem_X_test , opt_beta)\n",
        "\n",
        "print(\"lasso optimal beta:\\n\", opt_beta)\n",
        "print(\"Difference of magnitude of ridge beta and lasso beta: \", np.sqrt((opt_beta).T @ (opt_beta)) - np.sqrt((ridge_beta).T @ (ridge_beta)))\n",
        "\n",
        "print(\"In sample MSE:\"    , mse(chem_X_train, pred_train))\n",
        "print(\"Out of sample MSE:\", mse(chem_y_test, pred_test))\n",
        "\n",
        "print(\"In sample R^2 score:\",    r2_score(chem_y_train, pred_train))\n",
        "print(\"Out of sample R^2 score\", r2_score(chem_y_test , pred_test))\n",
        "\n",
        "plt.figure()\n",
        "plt.title(\"Lasso cost per gradient descent iteration\")\n",
        "plt.xlabel(\"Gradient descent iteration\")\n",
        "plt.ylabel(\"cost of lasso\")\n",
        "plt.plot(costs)\n",
        "plt.show()"
      ]
    },
    {
      "cell_type": "markdown",
      "metadata": {},
      "source": [
        "Singleing out the optimal lambda calculated previously and performing a gradient descent using this value, a depiction of what the gradient descent does is shown above. With every step, the Lasso cost of the function is reduced until it can be no more.\n",
        "\n",
        "The calculated MSE for the in sample data is significantly lower for lasso than it is for ridge, this is perhaps a consequence of the differing magnitudes of lambda. From the above statistics, it is clear to see that the difference between the optimal $\\boldsymbol{\\beta}$ for ridge and lasso is very small and thus plays little part in this conundrum. Hence, Lasso with a smaller penalty is a better approximation to the least squares model, which is designed to minimise MSE. This is because the addition cost terms are smaller than the ridge regression with larger penalty, explaining why (for this data), lasso performs better under the MSE metric. Otherwise, its $R^2$ scores are essentially identical.\n",
        "\n",
        "However, the same can not be said about the out of sample mean squared errors which are more equal across ridge and lasso, with a great disparity between the in sample and out of sample MSE for lasso. This perhaps shows some semblance of overfitting."
      ]
    },
    {
      "cell_type": "code",
      "execution_count": 204,
      "metadata": {},
      "outputs": [
        {
          "data": {
            "text/plain": [
              "<matplotlib.lines.Line2D at 0x1c66ac491f0>"
            ]
          },
          "execution_count": 204,
          "metadata": {},
          "output_type": "execute_result"
        },
        {
          "data": {
            "image/png": "[encoded data removed]",
            "text/plain": [
              "<Figure size 432x288 with 1 Axes>"
            ]
          },
          "metadata": {
            "needs_background": "light"
          },
          "output_type": "display_data"
        }
      ],
      "source": [
        "plt.title(\"Residue plot for lasso regression\")\n",
        "plt.xlabel(\"Prediction lasso\")\n",
        "plt.ylabel(\"Residue\")\n",
        "plt.scatter(pred_test, chem_y_test - pred_test, alpha=0.4)\n",
        "plt.axhline(y=0, linestyle=\"--\", color = \"red\")"
      ]
    },
    {
      "cell_type": "markdown",
      "metadata": {
        "id": "oi0I8ERdy0mD"
      },
      "source": [
        "<a name=\"task-2\"></a>\n",
        "\n",
        "# Task 2: Classification [^](#outline)"
      ]
    },
    {
      "cell_type": "markdown",
      "metadata": {
        "id": "BgBfTmgpy08Z"
      },
      "source": [
        "<a name=\"q21\"></a>\n",
        "\n",
        "## 2.1 [^](#outline)"
      ]
    },
    {
      "cell_type": "code",
      "execution_count": 205,
      "metadata": {},
      "outputs": [],
      "source": [
        "def tumor_string_to_int_map(y):\n",
        "    return np.where(y == 'B', 1, 0).ravel()"
      ]
    },
    {
      "cell_type": "markdown",
      "metadata": {},
      "source": [
        "As before, standardise the data, but this time, tumour_samples.csv (and in fact all tumour related files) have an extra column which is not need. This is to be removed from the data set here. Moreover, it is more useful to have the two classifications \"M\" and \"B\" as the numbers 1, and 0 signifying postive and negative."
      ]
    },
    {
      "cell_type": "code",
      "execution_count": 206,
      "metadata": {},
      "outputs": [],
      "source": [
        "tumour_X_train_raw, tumour_y_train = read_csv(\"../res/tumour_samples.csv\")\n",
        "tumour_X_train = standardise(tumour_X_train_raw[:, 1:])\n",
        "\n",
        "tumour_y_train = tumor_string_to_int_map(tumour_y_train).ravel()\n"
      ]
    },
    {
      "cell_type": "code",
      "execution_count": 207,
      "metadata": {},
      "outputs": [],
      "source": [
        "tumour_X_test_raw, tumour_y_test = read_csv(\"../res/tumour_test.csv\")\n",
        "tumour_X_test = standardise(tumour_X_test_raw[:, 1:])\n",
        "\n",
        "tumour_y_test = tumor_string_to_int_map(tumour_y_test).ravel()\n"
      ]
    },
    {
      "cell_type": "code",
      "execution_count": 208,
      "metadata": {},
      "outputs": [],
      "source": [
        "def distance(x, y):\n",
        "    return np.sqrt(np.sum(np.square(x - y), axis=1))"
      ]
    },
    {
      "cell_type": "markdown",
      "metadata": {},
      "source": [
        "Next, the neighbourhood of a point will be defined as the $k$ nearest points (in this case distance is given by the euclidean metric) to the point. The calculation is done by simple brute force:"
      ]
    },
    {
      "cell_type": "code",
      "execution_count": 209,
      "metadata": {},
      "outputs": [],
      "source": [
        "def k_neighbours(X_train, X_test, k):\n",
        "    distances = [distance(x_test, X_train) for x_test in X_test]\n",
        "\n",
        "    result = np.zeros((len(X_test), k), dtype=int)\n",
        "\n",
        "    for i, train_i_dists in enumerate(distances):\n",
        "        neighbour_dists = enumerate(train_i_dists)\n",
        "        nearest_neighbours = sorted(neighbour_dists, key = lambda x: x[1])[:k]\n",
        "\n",
        "        result[i] = [neighbour[0] for neighbour in nearest_neighbours]\n",
        "\n",
        "    return result\n",
        "\n"
      ]
    },
    {
      "cell_type": "markdown",
      "metadata": {},
      "source": [
        "The knn will predict a given value to be the modal class within its neighbourhood."
      ]
    },
    {
      "cell_type": "code",
      "execution_count": 210,
      "metadata": {},
      "outputs": [],
      "source": [
        "def knn_predict(X_train, y_train, X_test, k):\n",
        "    neighbours = k_neighbours(X_train, X_test, k)\n",
        "    \n",
        "    return [np.argmax(np.bincount(y_train[neighbour])) for neighbour in neighbours]"
      ]
    },
    {
      "cell_type": "code",
      "execution_count": 211,
      "metadata": {},
      "outputs": [],
      "source": [
        "folds_count = 5\n",
        "tumour_indicies = np.random.permutation(np.arange(len(tumour_X_train)))\n",
        "tumour_fold_indicies = np.array_split(tumour_indicies, folds_count)"
      ]
    },
    {
      "cell_type": "markdown",
      "metadata": {},
      "source": [
        "To be able to properly train the network, a metric for its success is necessary. In this case, this will simply be the proportion of total results it guessed correctly."
      ]
    },
    {
      "cell_type": "code",
      "execution_count": 212,
      "metadata": {},
      "outputs": [],
      "source": [
        "def knn_score(y_test, y_pred):\n",
        "    return np.mean(y_test == y_pred)"
      ]
    },
    {
      "cell_type": "code",
      "execution_count": 213,
      "metadata": {},
      "outputs": [],
      "source": [
        "k_set = np.arange(1, 101, dtype=int)\n",
        "score_set = scan_lambda(\n",
        "    k_set,\n",
        "    tumour_fold_indicies, \n",
        "    tumour_X_train, \n",
        "    tumour_y_train,\n",
        "    knn_predict,\n",
        "    knn_score)"
      ]
    },
    {
      "cell_type": "code",
      "execution_count": 214,
      "metadata": {},
      "outputs": [
        {
          "name": "stdout",
          "output_type": "stream",
          "text": [
            "best k:  2\n"
          ]
        },
        {
          "data": {
            "image/png": "[encoded data removed]",
            "text/plain": [
              "<Figure size 432x288 with 1 Axes>"
            ]
          },
          "metadata": {
            "needs_background": "light"
          },
          "output_type": "display_data"
        }
      ],
      "source": [
        "best_k = k_set[np.argmax(score_set)]\n",
        "print(\"best k: \", best_k)\n",
        "\n",
        "plt.figure()\n",
        "plt.title(\"Scan of k values for knn\")\n",
        "plt.ylabel(\"Proportion of correct results\")\n",
        "plt.xlabel(\"k\")\n",
        "plt.plot(k_set, score_set)\n",
        "plt.show()"
      ]
    },
    {
      "cell_type": "code",
      "execution_count": 215,
      "metadata": {},
      "outputs": [
        {
          "name": "stdout",
          "output_type": "stream",
          "text": [
            "In sample score:  0.9996108949416342\n",
            "Out of sample score:  0.985\n"
          ]
        }
      ],
      "source": [
        "print(\"In sample score: \", np.max(score_set))\n",
        "\n",
        "out_prediction = knn_predict(tumour_X_train, tumour_y_train, tumour_X_test, best_k)\n",
        "print(\"Out of sample score: \", knn_score(tumour_y_test, out_prediction))"
      ]
    },
    {
      "cell_type": "markdown",
      "metadata": {},
      "source": [
        "Here it can be clearly seen that the knn performs marvelously for both the in-sample data and the out of sample data. Once again, within expectation, the in sample score is higher than the out of sample score since the network was trained to optimise for the aptly named 'training_set'. However, the classification accuracy of the out of sample data is still very significant with only 1 in 67 predictions being wrong.\n",
        "\n",
        "Looking at the scan of $k$ values, the trend is clearly that a greater number of neighbours decreases the accuracy of the classification. This suggests significant correlation between the data an its nearest neighbour."
      ]
    },
    {
      "cell_type": "markdown",
      "metadata": {
        "id": "rCPlajQOy1ER"
      },
      "source": [
        "<a name=\"q22\"></a>\n",
        "\n",
        "## 2.2 [^](#outline)"
      ]
    },
    {
      "cell_type": "markdown",
      "metadata": {},
      "source": [
        "\n",
        "For the following classification task, a random forest with cross_entropy const will be employed. Cross entropy cost is given by:\n",
        "\n",
        "$$\n",
        "\\text{CE}[\\pi(R_\\alpha)] = -\\sum_{q=i}^Q \\pi_q(R_\\alpha) \\log \\pi_q(R_\\alpha)\n",
        "$$\n"
      ]
    },
    {
      "cell_type": "code",
      "execution_count": 216,
      "metadata": {},
      "outputs": [],
      "source": [
        "def cross_entropy(y, classes_count = 2):\n",
        "    \"\"\"\n",
        "    Calculates the GINI index\n",
        "    Arguments:\n",
        "        y: (np.array) vector of training labels, of shape (N,).\n",
        "        classes_count: number of distinct classes (in this case 2).\n",
        "    Returns:\n",
        "        (int): the GINI index\n",
        "    \"\"\"\n",
        "\n",
        "    class_weights = np.zeros(classes_count)\n",
        "\n",
        "    for y_i in y:\n",
        "        class_weights[y_i] += 1/len(y)\n",
        "    \n",
        "    #Prevents error with np.log(0)!\n",
        "    if np.min(class_weights) == 0:\n",
        "        return np.inf\n",
        "\n",
        "    return -np.sum(class_weights * np.log(class_weights))"
      ]
    },
    {
      "cell_type": "code",
      "execution_count": 217,
      "metadata": {},
      "outputs": [],
      "source": [
        "def split_samples(X, y, column, value):\n",
        "    \"\"\"\n",
        "    Seperates training data column into two regions denoted by the inequality: left =>\n",
        "    X < value, right => X >= value.\n",
        "    Arguments:\n",
        "        X: (np.array) training features, of shape (N, D).\n",
        "        y: (np.array) vector of training labels, of shape (N,).\n",
        "        column: (int) index of predictor to be divided.\n",
        "        value: (int) delimiter.\n",
        "    Returns:\n",
        "        (tuple, tuple): X split followed by y split.\n",
        "    \"\"\"\n",
        "    l_mask = X[:, column] < value\n",
        "    l_mask_inv = ~l_mask\n",
        "\n",
        "    #      left split      right split\n",
        "    return (X[l_mask, :], X[l_mask_inv, :]),\\\n",
        "           (y[l_mask]   , y[l_mask_inv])\n"
      ]
    },
    {
      "cell_type": "code",
      "execution_count": 218,
      "metadata": {},
      "outputs": [],
      "source": [
        "def majority_vote(y, classes_count = 2):\n",
        "    \"\"\"\n",
        "    Calculates the modal classification.\n",
        "    Arguments:\n",
        "        y: vector of training labels, of shape (N,).\n",
        "        classes_count: number of distinct classes (in this case 2)\n",
        "    Returns:\n",
        "        (int): the modal classification\n",
        "    \"\"\"\n",
        "\n",
        "    if(classes_count <= 1):\n",
        "        return y[0]\n",
        "    else:\n",
        "        class_counts = np.zeros(classes_count)\n",
        "\n",
        "        for y_i in y:\n",
        "            class_counts[y_i] += 1\n",
        "\n",
        "        return np.argmax(class_counts)"
      ]
    },
    {
      "cell_type": "code",
      "execution_count": 219,
      "metadata": {},
      "outputs": [],
      "source": [
        "# EDIT THIS FUNCTION\n",
        "def ce_split_value(X, y, column):\n",
        "  \"\"\"\n",
        "  Calculate the GINI-index based on `column` with the split that minimizes the GINI-index.\n",
        "  Arguments:\n",
        "      X: training features, of shape (N, D).\n",
        "      y: vector of training labels, of shape (N,).\n",
        "      column: the column of the feature for calculating. 0 <= column < D\n",
        "  Returns:\n",
        "      (float, float): the resulted GINI-index and the corresponding value used in splitting.\n",
        "  \"\"\"\n",
        "  \n",
        "  unique_vals = np.unique(X[:, column])\n",
        "\n",
        "  assert len(unique_vals) > 1, f\"There must be more than one distinct feature value. Given: {unique_vals}.\"\n",
        "\n",
        "  ce_val = np.inf \n",
        "  threshold = None\n",
        "  \n",
        "  # split the values of i-th feature and calculate the cost \n",
        "  for value in unique_vals:\n",
        "    (X_l, X_r), (y_l, y_r) = split_samples(X, y, column, value)\n",
        "\n",
        "    # if one of the two sides is empty, skip this split.\n",
        "    if len(y_l) > 0 and len(y_r) > 0:\n",
        "\n",
        "      p_left = len(y_l)/(len(y_l) + len(y_r))\n",
        "      p_right = 1 - p_left\n",
        "      new_cost = p_left * cross_entropy(y_l) + p_right * cross_entropy(y_r)\n",
        "\n",
        "      if new_cost < ce_val:\n",
        "        ce_val = new_cost\n",
        "        threshold = value\n",
        "    \n",
        "  return ce_val, threshold"
      ]
    },
    {
      "cell_type": "code",
      "execution_count": 220,
      "metadata": {},
      "outputs": [],
      "source": [
        "## EDIT THIS FUNCTION\n",
        "def ce_split_rf(n_features, X, y):\n",
        "  \"\"\"\n",
        "  Choose the best feature to split according to criterion.\n",
        "  Args:\n",
        "      n_features: number of sampled features.\n",
        "      X: training features, of shape (N, D).\n",
        "      y: vector of training labels, of shape (N,).\n",
        "  Returns:\n",
        "      (float, int, float): the minimized gini-index, the best feature index and value used in splitting.\n",
        "  \"\"\"\n",
        "  rows, cols = X.shape\n",
        "\n",
        "  columns = np.random.choice(np.arange(0, cols), n_features, replace=False)\n",
        "\n",
        "  min_ce = np.inf\n",
        "  split_column = None\n",
        "  split_val = 0\n",
        "\n",
        "  for column in columns:\n",
        "    # skip column if samples are not seperable by that column.\n",
        "    if len(np.unique(X[:, column])) > 1:\n",
        "      # search for the best splitting value for the given column.\n",
        "      ce, val = ce_split_value(X, y, column)\n",
        "           \n",
        "      if ce < min_ce:\n",
        "          min_ce = ce\n",
        "          split_column = column\n",
        "          split_val = val\n",
        "\n",
        "  return min_ce, split_column, split_val"
      ]
    },
    {
      "cell_type": "code",
      "execution_count": 221,
      "metadata": {},
      "outputs": [],
      "source": [
        "def build_random_forest(n_features, X, y, depth, max_depth, min_samples_leaf=2):\n",
        "    classes_count = len(np.unique(y))\n",
        "\n",
        "    if(classes_count == 1 or depth >= max_depth or len(X) <= min_samples_leaf):\n",
        "        return {'majority_label': majority_vote(y, classes_count)}\n",
        "    else:\n",
        "        ce, split_index, split_val = ce_split_rf(n_features, X, y)\n",
        "        \n",
        "        # If GI is infinity, it means that samples are not seperable by the sampled features.\n",
        "        if ce == np.inf:\n",
        "            return {'majority_label': majority_vote(y, classes_count)}\n",
        "            \n",
        "        (X_l, X_r), (y_l, y_r) = split_samples(X, y, split_index, split_val)\n",
        "        \n",
        "        return {\n",
        "            'feature_index': split_index,\n",
        "            'value': split_val,\n",
        "            'majority_label': None,\n",
        "            'left':  build_random_forest(n_features, X_l, y_l, depth + 1, max_depth, min_samples_leaf),\n",
        "            'right': build_random_forest(n_features, X_r, y_r, depth + 1, max_depth, min_samples_leaf)\n",
        "        }"
      ]
    },
    {
      "cell_type": "code",
      "execution_count": 222,
      "metadata": {},
      "outputs": [],
      "source": [
        "def train_rf(B, n_features, X, y, max_depth):\n",
        "  \"\"\"\n",
        "  Build the decision tree according to the training data.\n",
        "  Args:\n",
        "      B: number of decision trees.\n",
        "      X: (pd.Dataframe) training features, of shape (N, D). Each X[i] is a training sample.\n",
        "      y: (np.array) vector of training labels, of shape (N,). y[i] is the label for X[i], and each y[i] is\n",
        "      an integer in the range 0 <= y[i] <= C. Here C = 1.\n",
        "      max_depth: (int) maximum depth\n",
        "  \"\"\"\n",
        "  N = X.shape[0]\n",
        "\n",
        "  training_indices = np.arange(N)\n",
        "  trees = []\n",
        "\n",
        "  for i in range(B):\n",
        "    print(\"Current B val: \", i)\n",
        "\n",
        "    sample = np.random.choice(training_indices, N, replace=True)\n",
        "    X_sample = X[sample, :]\n",
        "    y_sample = y[sample]\n",
        "    \n",
        "    tree = build_random_forest(n_features, X_sample, y_sample, 1, max_depth)\n",
        "    trees.append(tree)\n",
        "\n",
        "  return trees"
      ]
    },
    {
      "cell_type": "code",
      "execution_count": 223,
      "metadata": {},
      "outputs": [],
      "source": [
        "def classify(tree, x):\n",
        "  \"\"\"\n",
        "  Classify a single sample with the fitted decision tree.\n",
        "  Args:\n",
        "      x: ((np.array) a single sample features, of shape (D,).\n",
        "  Returns:\n",
        "      (int): predicted testing sample label.\n",
        "  \"\"\"\n",
        "  if tree['majority_label'] is not None: \n",
        "    return tree['majority_label']\n",
        "  else:\n",
        "    if x[tree['feature_index']] < tree['value']:\n",
        "      return classify(tree['left'], x)\n",
        "    else:\n",
        "      return classify(tree['right'], x)"
      ]
    },
    {
      "cell_type": "code",
      "execution_count": 224,
      "metadata": {},
      "outputs": [],
      "source": [
        "def predict_rf(rf, X, classes_count = 2):\n",
        "  \"\"\"\n",
        "  Predict classification results for X.\n",
        "  Args:\n",
        "      rf: A trained random forest through train_rf function.\n",
        "      X: (np.array) testing sample features, of shape (N, D).\n",
        "  Returns:\n",
        "      (np.array): predicted testing sample labels, of shape (N,).\n",
        "  \"\"\"\n",
        "\n",
        "  def aggregate(decisions):\n",
        "    counts = np.zeros(classes_count)\n",
        "    for decision in decisions:\n",
        "        counts[decision] += 1\n",
        "\n",
        "    return np.argmax(counts)\n",
        "\n",
        "  if len(X.shape) == 1:\n",
        "      return aggregate([classify(tree, X) for tree in rf])\n",
        "  else:\n",
        "      return np.array([aggregate([classify(tree, x) for tree in rf]) for x in X])"
      ]
    },
    {
      "cell_type": "code",
      "execution_count": 225,
      "metadata": {},
      "outputs": [],
      "source": [
        "def random_forest_prediction_val(X_train, y_train, X_test, B_D_pair):\n",
        "    n_features = int(np.sqrt(X_train.shape[1])) #Empirical recommendation\n",
        "\n",
        "    B = B_D_pair[0]\n",
        "    max_depth = B_D_pair[1]\n",
        "\n",
        "    print(\"BD_pair: (\", B, max_depth, \")\")\n",
        "\n",
        "    rf = train_rf(B, n_features, X_train, y_train, max_depth)\n",
        "    return predict_rf(rf, X_test)\n"
      ]
    },
    {
      "cell_type": "code",
      "execution_count": 227,
      "metadata": {},
      "outputs": [
        {
          "name": "stdout",
          "output_type": "stream",
          "text": [
            "BD_pair: ( 1 1 )\n",
            "Current B val:  0\n",
            "BD_pair: ( 1 1 )\n",
            "Current B val:  0\n",
            "BD_pair: ( 1 1 )\n",
            "Current B val:  0\n",
            "BD_pair: ( 1 1 )\n",
            "Current B val:  0\n",
            "BD_pair: ( 1 1 )\n",
            "Current B val:  0\n",
            "BD_pair: ( 1 2 )\n",
            "Current B val:  0\n",
            "BD_pair: ( 1 2 )\n",
            "Current B val:  0\n",
            "BD_pair: ( 1 2 )\n",
            "Current B val:  0\n",
            "BD_pair: ( 1 2 )\n",
            "Current B val:  0\n",
            "BD_pair: ( 1 2 )\n",
            "Current B val:  0\n",
            "BD_pair: ( 1 3 )\n",
            "Current B val:  0\n",
            "BD_pair: ( 1 3 )\n",
            "Current B val:  0\n",
            "BD_pair: ( 1 3 )\n",
            "Current B val:  0\n",
            "BD_pair: ( 1 3 )\n",
            "Current B val:  0\n",
            "BD_pair: ( 1 3 )\n",
            "Current B val:  0\n",
            "BD_pair: ( 1 4 )\n",
            "Current B val:  0\n",
            "BD_pair: ( 1 4 )\n",
            "Current B val:  0\n",
            "BD_pair: ( 1 4 )\n",
            "Current B val:  0\n",
            "BD_pair: ( 1 4 )\n",
            "Current B val:  0\n",
            "BD_pair: ( 1 4 )\n",
            "Current B val:  0\n",
            "BD_pair: ( 1 5 )\n",
            "Current B val:  0\n",
            "BD_pair: ( 1 5 )\n",
            "Current B val:  0\n",
            "BD_pair: ( 1 5 )\n",
            "Current B val:  0\n",
            "BD_pair: ( 1 5 )\n",
            "Current B val:  0\n",
            "BD_pair: ( 1 5 )\n",
            "Current B val:  0\n",
            "BD_pair: ( 2 1 )\n",
            "Current B val:  0\n",
            "Current B val:  1\n",
            "BD_pair: ( 2 1 )\n",
            "Current B val:  0\n",
            "Current B val:  1\n",
            "BD_pair: ( 2 1 )\n",
            "Current B val:  0\n",
            "Current B val:  1\n",
            "BD_pair: ( 2 1 )\n",
            "Current B val:  0\n",
            "Current B val:  1\n",
            "BD_pair: ( 2 1 )\n",
            "Current B val:  0\n",
            "Current B val:  1\n",
            "BD_pair: ( 2 2 )\n",
            "Current B val:  0\n",
            "Current B val:  1\n",
            "BD_pair: ( 2 2 )\n",
            "Current B val:  0\n",
            "Current B val:  1\n",
            "BD_pair: ( 2 2 )\n",
            "Current B val:  0\n",
            "Current B val:  1\n",
            "BD_pair: ( 2 2 )\n",
            "Current B val:  0\n",
            "Current B val:  1\n",
            "BD_pair: ( 2 2 )\n",
            "Current B val:  0\n",
            "Current B val:  1\n",
            "BD_pair: ( 2 3 )\n",
            "Current B val:  0\n",
            "Current B val:  1\n",
            "BD_pair: ( 2 3 )\n",
            "Current B val:  0\n",
            "Current B val:  1\n",
            "BD_pair: ( 2 3 )\n",
            "Current B val:  0\n",
            "Current B val:  1\n",
            "BD_pair: ( 2 3 )\n",
            "Current B val:  0\n",
            "Current B val:  1\n",
            "BD_pair: ( 2 3 )\n",
            "Current B val:  0\n",
            "Current B val:  1\n",
            "BD_pair: ( 2 4 )\n",
            "Current B val:  0\n",
            "Current B val:  1\n",
            "BD_pair: ( 2 4 )\n",
            "Current B val:  0\n",
            "Current B val:  1\n",
            "BD_pair: ( 2 4 )\n",
            "Current B val:  0\n",
            "Current B val:  1\n",
            "BD_pair: ( 2 4 )\n",
            "Current B val:  0\n",
            "Current B val:  1\n",
            "BD_pair: ( 2 4 )\n",
            "Current B val:  0\n",
            "Current B val:  1\n",
            "BD_pair: ( 2 5 )\n",
            "Current B val:  0\n",
            "Current B val:  1\n",
            "BD_pair: ( 2 5 )\n",
            "Current B val:  0\n",
            "Current B val:  1\n",
            "BD_pair: ( 2 5 )\n",
            "Current B val:  0\n",
            "Current B val:  1\n",
            "BD_pair: ( 2 5 )\n",
            "Current B val:  0\n",
            "Current B val:  1\n",
            "BD_pair: ( 2 5 )\n",
            "Current B val:  0\n",
            "Current B val:  1\n",
            "BD_pair: ( 3 1 )\n",
            "Current B val:  0\n",
            "Current B val:  1\n",
            "Current B val:  2\n",
            "BD_pair: ( 3 1 )\n",
            "Current B val:  0\n",
            "Current B val:  1\n",
            "Current B val:  2\n",
            "BD_pair: ( 3 1 )\n",
            "Current B val:  0\n",
            "Current B val:  1\n",
            "Current B val:  2\n",
            "BD_pair: ( 3 1 )\n",
            "Current B val:  0\n",
            "Current B val:  1\n",
            "Current B val:  2\n",
            "BD_pair: ( 3 1 )\n",
            "Current B val:  0\n",
            "Current B val:  1\n",
            "Current B val:  2\n",
            "BD_pair: ( 3 2 )\n",
            "Current B val:  0\n",
            "Current B val:  1\n",
            "Current B val:  2\n",
            "BD_pair: ( 3 2 )\n",
            "Current B val:  0\n",
            "Current B val:  1\n",
            "Current B val:  2\n",
            "BD_pair: ( 3 2 )\n",
            "Current B val:  0\n",
            "Current B val:  1\n",
            "Current B val:  2\n",
            "BD_pair: ( 3 2 )\n",
            "Current B val:  0\n",
            "Current B val:  1\n",
            "Current B val:  2\n",
            "BD_pair: ( 3 2 )\n",
            "Current B val:  0\n",
            "Current B val:  1\n",
            "Current B val:  2\n",
            "BD_pair: ( 3 3 )\n",
            "Current B val:  0\n",
            "Current B val:  1\n",
            "Current B val:  2\n",
            "BD_pair: ( 3 3 )\n",
            "Current B val:  0\n",
            "Current B val:  1\n",
            "Current B val:  2\n",
            "BD_pair: ( 3 3 )\n",
            "Current B val:  0\n",
            "Current B val:  1\n",
            "Current B val:  2\n",
            "BD_pair: ( 3 3 )\n",
            "Current B val:  0\n",
            "Current B val:  1\n",
            "Current B val:  2\n",
            "BD_pair: ( 3 3 )\n",
            "Current B val:  0\n",
            "Current B val:  1\n",
            "Current B val:  2\n",
            "BD_pair: ( 3 4 )\n",
            "Current B val:  0\n",
            "Current B val:  1\n",
            "Current B val:  2\n",
            "BD_pair: ( 3 4 )\n",
            "Current B val:  0\n",
            "Current B val:  1\n",
            "Current B val:  2\n",
            "BD_pair: ( 3 4 )\n",
            "Current B val:  0\n",
            "Current B val:  1\n",
            "Current B val:  2\n",
            "BD_pair: ( 3 4 )\n",
            "Current B val:  0\n",
            "Current B val:  1\n",
            "Current B val:  2\n",
            "BD_pair: ( 3 4 )\n",
            "Current B val:  0\n",
            "Current B val:  1\n",
            "Current B val:  2\n",
            "BD_pair: ( 3 5 )\n",
            "Current B val:  0\n",
            "Current B val:  1\n",
            "Current B val:  2\n",
            "BD_pair: ( 3 5 )\n",
            "Current B val:  0\n",
            "Current B val:  1\n",
            "Current B val:  2\n",
            "BD_pair: ( 3 5 )\n",
            "Current B val:  0\n",
            "Current B val:  1\n",
            "Current B val:  2\n",
            "BD_pair: ( 3 5 )\n",
            "Current B val:  0\n",
            "Current B val:  1\n",
            "Current B val:  2\n",
            "BD_pair: ( 3 5 )\n",
            "Current B val:  0\n",
            "Current B val:  1\n",
            "Current B val:  2\n",
            "BD_pair: ( 4 1 )\n",
            "Current B val:  0\n",
            "Current B val:  1\n",
            "Current B val:  2\n",
            "Current B val:  3\n",
            "BD_pair: ( 4 1 )\n",
            "Current B val:  0\n",
            "Current B val:  1\n",
            "Current B val:  2\n",
            "Current B val:  3\n",
            "BD_pair: ( 4 1 )\n",
            "Current B val:  0\n",
            "Current B val:  1\n",
            "Current B val:  2\n",
            "Current B val:  3\n",
            "BD_pair: ( 4 1 )\n",
            "Current B val:  0\n",
            "Current B val:  1\n",
            "Current B val:  2\n",
            "Current B val:  3\n",
            "BD_pair: ( 4 1 )\n",
            "Current B val:  0\n",
            "Current B val:  1\n",
            "Current B val:  2\n",
            "Current B val:  3\n",
            "BD_pair: ( 4 2 )\n",
            "Current B val:  0\n",
            "Current B val:  1\n",
            "Current B val:  2\n",
            "Current B val:  3\n",
            "BD_pair: ( 4 2 )\n",
            "Current B val:  0\n",
            "Current B val:  1\n",
            "Current B val:  2\n",
            "Current B val:  3\n",
            "BD_pair: ( 4 2 )\n",
            "Current B val:  0\n",
            "Current B val:  1\n",
            "Current B val:  2\n",
            "Current B val:  3\n",
            "BD_pair: ( 4 2 )\n",
            "Current B val:  0\n",
            "Current B val:  1\n",
            "Current B val:  2\n",
            "Current B val:  3\n",
            "BD_pair: ( 4 2 )\n",
            "Current B val:  0\n",
            "Current B val:  1\n",
            "Current B val:  2\n",
            "Current B val:  3\n",
            "BD_pair: ( 4 3 )\n",
            "Current B val:  0\n",
            "Current B val:  1\n",
            "Current B val:  2\n",
            "Current B val:  3\n",
            "BD_pair: ( 4 3 )\n",
            "Current B val:  0\n",
            "Current B val:  1\n",
            "Current B val:  2\n",
            "Current B val:  3\n",
            "BD_pair: ( 4 3 )\n",
            "Current B val:  0\n",
            "Current B val:  1\n",
            "Current B val:  2\n",
            "Current B val:  3\n",
            "BD_pair: ( 4 3 )\n",
            "Current B val:  0\n",
            "Current B val:  1\n",
            "Current B val:  2\n",
            "Current B val:  3\n",
            "BD_pair: ( 4 3 )\n",
            "Current B val:  0\n",
            "Current B val:  1\n",
            "Current B val:  2\n",
            "Current B val:  3\n",
            "BD_pair: ( 4 4 )\n",
            "Current B val:  0\n",
            "Current B val:  1\n",
            "Current B val:  2\n",
            "Current B val:  3\n",
            "BD_pair: ( 4 4 )\n",
            "Current B val:  0\n",
            "Current B val:  1\n",
            "Current B val:  2\n",
            "Current B val:  3\n",
            "BD_pair: ( 4 4 )\n",
            "Current B val:  0\n",
            "Current B val:  1\n",
            "Current B val:  2\n",
            "Current B val:  3\n",
            "BD_pair: ( 4 4 )\n",
            "Current B val:  0\n",
            "Current B val:  1\n",
            "Current B val:  2\n",
            "Current B val:  3\n",
            "BD_pair: ( 4 4 )\n",
            "Current B val:  0\n",
            "Current B val:  1\n",
            "Current B val:  2\n",
            "Current B val:  3\n",
            "BD_pair: ( 4 5 )\n",
            "Current B val:  0\n",
            "Current B val:  1\n",
            "Current B val:  2\n",
            "Current B val:  3\n",
            "BD_pair: ( 4 5 )\n",
            "Current B val:  0\n",
            "Current B val:  1\n",
            "Current B val:  2\n",
            "Current B val:  3\n",
            "BD_pair: ( 4 5 )\n",
            "Current B val:  0\n",
            "Current B val:  1\n",
            "Current B val:  2\n",
            "Current B val:  3\n",
            "BD_pair: ( 4 5 )\n",
            "Current B val:  0\n",
            "Current B val:  1\n",
            "Current B val:  2\n",
            "Current B val:  3\n",
            "BD_pair: ( 4 5 )\n",
            "Current B val:  0\n",
            "Current B val:  1\n",
            "Current B val:  2\n",
            "Current B val:  3\n",
            "BD_pair: ( 5 1 )\n",
            "Current B val:  0\n",
            "Current B val:  1\n",
            "Current B val:  2\n",
            "Current B val:  3\n",
            "Current B val:  4\n",
            "BD_pair: ( 5 1 )\n",
            "Current B val:  0\n",
            "Current B val:  1\n",
            "Current B val:  2\n",
            "Current B val:  3\n",
            "Current B val:  4\n",
            "BD_pair: ( 5 1 )\n",
            "Current B val:  0\n",
            "Current B val:  1\n",
            "Current B val:  2\n",
            "Current B val:  3\n",
            "Current B val:  4\n",
            "BD_pair: ( 5 1 )\n",
            "Current B val:  0\n",
            "Current B val:  1\n",
            "Current B val:  2\n",
            "Current B val:  3\n",
            "Current B val:  4\n",
            "BD_pair: ( 5 1 )\n",
            "Current B val:  0\n",
            "Current B val:  1\n",
            "Current B val:  2\n",
            "Current B val:  3\n",
            "Current B val:  4\n",
            "BD_pair: ( 5 2 )\n",
            "Current B val:  0\n",
            "Current B val:  1\n",
            "Current B val:  2\n",
            "Current B val:  3\n",
            "Current B val:  4\n",
            "BD_pair: ( 5 2 )\n",
            "Current B val:  0\n",
            "Current B val:  1\n",
            "Current B val:  2\n",
            "Current B val:  3\n",
            "Current B val:  4\n",
            "BD_pair: ( 5 2 )\n",
            "Current B val:  0\n",
            "Current B val:  1\n",
            "Current B val:  2\n",
            "Current B val:  3\n",
            "Current B val:  4\n",
            "BD_pair: ( 5 2 )\n",
            "Current B val:  0\n",
            "Current B val:  1\n",
            "Current B val:  2\n",
            "Current B val:  3\n",
            "Current B val:  4\n",
            "BD_pair: ( 5 2 )\n",
            "Current B val:  0\n",
            "Current B val:  1\n",
            "Current B val:  2\n",
            "Current B val:  3\n",
            "Current B val:  4\n",
            "BD_pair: ( 5 3 )\n",
            "Current B val:  0\n",
            "Current B val:  1\n",
            "Current B val:  2\n",
            "Current B val:  3\n",
            "Current B val:  4\n",
            "BD_pair: ( 5 3 )\n",
            "Current B val:  0\n",
            "Current B val:  1\n",
            "Current B val:  2\n",
            "Current B val:  3\n",
            "Current B val:  4\n",
            "BD_pair: ( 5 3 )\n",
            "Current B val:  0\n",
            "Current B val:  1\n",
            "Current B val:  2\n",
            "Current B val:  3\n",
            "Current B val:  4\n",
            "BD_pair: ( 5 3 )\n",
            "Current B val:  0\n",
            "Current B val:  1\n",
            "Current B val:  2\n",
            "Current B val:  3\n",
            "Current B val:  4\n",
            "BD_pair: ( 5 3 )\n",
            "Current B val:  0\n",
            "Current B val:  1\n",
            "Current B val:  2\n",
            "Current B val:  3\n",
            "Current B val:  4\n",
            "BD_pair: ( 5 4 )\n",
            "Current B val:  0\n",
            "Current B val:  1\n",
            "Current B val:  2\n",
            "Current B val:  3\n",
            "Current B val:  4\n",
            "BD_pair: ( 5 4 )\n",
            "Current B val:  0\n",
            "Current B val:  1\n",
            "Current B val:  2\n",
            "Current B val:  3\n",
            "Current B val:  4\n",
            "BD_pair: ( 5 4 )\n",
            "Current B val:  0\n",
            "Current B val:  1\n",
            "Current B val:  2\n",
            "Current B val:  3\n",
            "Current B val:  4\n",
            "BD_pair: ( 5 4 )\n",
            "Current B val:  0\n",
            "Current B val:  1\n",
            "Current B val:  2\n",
            "Current B val:  3\n",
            "Current B val:  4\n",
            "BD_pair: ( 5 4 )\n",
            "Current B val:  0\n",
            "Current B val:  1\n",
            "Current B val:  2\n",
            "Current B val:  3\n",
            "Current B val:  4\n",
            "BD_pair: ( 5 5 )\n",
            "Current B val:  0\n",
            "Current B val:  1\n",
            "Current B val:  2\n",
            "Current B val:  3\n",
            "Current B val:  4\n",
            "BD_pair: ( 5 5 )\n",
            "Current B val:  0\n",
            "Current B val:  1\n",
            "Current B val:  2\n",
            "Current B val:  3\n",
            "Current B val:  4\n",
            "BD_pair: ( 5 5 )\n",
            "Current B val:  0\n",
            "Current B val:  1\n",
            "Current B val:  2\n",
            "Current B val:  3\n",
            "Current B val:  4\n",
            "BD_pair: ( 5 5 )\n",
            "Current B val:  0\n",
            "Current B val:  1\n",
            "Current B val:  2\n",
            "Current B val:  3\n",
            "Current B val:  4\n",
            "BD_pair: ( 5 5 )\n",
            "Current B val:  0\n",
            "Current B val:  1\n",
            "Current B val:  2\n",
            "Current B val:  3\n",
            "Current B val:  4\n"
          ]
        }
      ],
      "source": [
        "min_depth_range = 1\n",
        "max_depth_range = 5\n",
        "\n",
        "min_B_range = 1\n",
        "max_B_range = 5\n",
        "\n",
        "lambda_set = []\n",
        "\n",
        "for B in range(min_B_range, max_B_range + 1):\n",
        "    for depth in range(min_depth_range, max_depth_range + 1):\n",
        "        lambda_set.append([B, depth])\n",
        "\n",
        "rf_scores = scan_lambda(\n",
        "    lambda_set, \n",
        "    tumour_fold_indicies, \n",
        "    tumour_X_train, \n",
        "    tumour_y_train, \n",
        "    random_forest_prediction_val,\n",
        "    knn_score)\n"
      ]
    },
    {
      "cell_type": "code",
      "execution_count": 233,
      "metadata": {},
      "outputs": [
        {
          "name": "stdout",
          "output_type": "stream",
          "text": [
            "Optimal pair (B, max_depth): [5, 5]\n"
          ]
        },
        {
          "data": {
            "image/png": "[encoded data removed]",
            "text/plain": [
              "<Figure size 432x288 with 1 Axes>"
            ]
          },
          "metadata": {
            "needs_background": "light"
          },
          "output_type": "display_data"
        }
      ],
      "source": [
        "print(\"Optimal pair (B, max_depth):\", lambda_set[np.argmax(rf_scores)])\n",
        "\n",
        "X, Y = np.meshgrid(np.arange(min_B_range, max_B_range+1), np.arange(min_depth_range, max_depth_range + 1))\n",
        "plt.title(\"2D map of score per pair (B, max_depth)\")\n",
        "plt.xlabel(\"Number of random forests\")\n",
        "plt.ylabel(\"Maximum depth\")\n",
        "plt.pcolormesh(X, Y, rf_scores.reshape(max_B_range - min_B_range + 1, max_depth_range - min_depth_range + 1))\n",
        "plt.show()\n",
        "\n"
      ]
    },
    {
      "cell_type": "markdown",
      "metadata": {},
      "source": [
        "As can be seen from the above plot, the optimal hyper-parameters seem to be (5, 5). This is of course only true for this small sample size and perhaps a greater sample would reveal different results. However, the general trend is clear that greater depth and more trees provides greater predictive potential. One thing of interest is the slight skew in importance of depth over number of trees, it is of my opinion that there is a greater improvement upon increasing the number of trees as opposed to the depth."
      ]
    },
    {
      "cell_type": "code",
      "execution_count": 304,
      "metadata": {},
      "outputs": [],
      "source": [
        "def confusion_matrix(y_actual, y_pred, map):\n",
        "    matrix = np.zeros((2, 2)).astype(int)\n",
        "\n",
        "    for y_i_actual, y_i_pred in zip(y_actual, y_pred):\n",
        "        matrix[map[y_i_actual], map[y_i_pred]] += 1\n",
        "\n",
        "    return matrix\n",
        "\n",
        "def accuracy(conf_matrix):\n",
        "    return (conf_matrix[1, 1] + conf_matrix[0, 0])/np.sum(conf_matrix)\n",
        "\n",
        "def recall(conf_matrix):\n",
        "    return conf_matrix[1, 1] / (conf_matrix[1, 1] + conf_matrix[0, 1])\n",
        "\n",
        "def precision(conf_matrix):\n",
        "    return conf_matrix[1, 1] / (conf_matrix[1, 1] + conf_matrix[1, 0])\n",
        "\n",
        "def F_score(conf_matrix):\n",
        "    return 2 * precision(conf_matrix) * recall(conf_matrix) / (precision(conf_matrix) + recall(conf_matrix))"
      ]
    },
    {
      "cell_type": "code",
      "execution_count": 250,
      "metadata": {},
      "outputs": [
        {
          "name": "stdout",
          "output_type": "stream",
          "text": [
            "Current B val:  0\n",
            "Current B val:  1\n",
            "Current B val:  2\n",
            "Current B val:  3\n",
            "Current B val:  4\n"
          ]
        }
      ],
      "source": [
        "\n",
        "optimal_random_forest = train_rf(5, int(np.sqrt(tumour_X_train.shape[1])), tumour_X_train, tumour_y_train, 5)"
      ]
    },
    {
      "cell_type": "code",
      "execution_count": 305,
      "metadata": {},
      "outputs": [
        {
          "name": "stdout",
          "output_type": "stream",
          "text": [
            "Confusion matrix for in sample data:\n",
            "        actual M  actual B\n",
            "pred M       371        53\n",
            "pred B         2      2140\n",
            "\n",
            "accuracy:  0.9785658612626656\n",
            "recall:  0.9758321933424533\n",
            "F-score:  0.9873125720876587\n",
            "\n",
            "Confusion matrix for out of sample data:\n",
            "        actual M  actual B\n",
            "pred M        49        24\n",
            "pred B         0       127\n",
            "\n",
            "accuracy:  0.88\n",
            "recall:  0.8410596026490066\n",
            "F-score:  0.9136690647482013\n"
          ]
        }
      ],
      "source": [
        "prediction_in  = predict_rf(optimal_random_forest, tumour_X_train)\n",
        "prediction_out = predict_rf(optimal_random_forest, tumour_X_test)\n",
        "\n",
        "map = {0:0, 1:1}\n",
        "data_frame_meta = {\"index\":[\"pred M\", \"pred B\"], \"columns\":[\"actual M\", \"actual B\"]}\n",
        "\n",
        "cf_in = confusion_matrix(tumour_y_train, prediction_in, map)\n",
        "cf_out  = confusion_matrix(tumour_y_test, prediction_out, map)\n",
        "\n",
        "print(\"Confusion matrix for in sample data:\")\n",
        "print(pd.DataFrame(data=cf_in, **data_frame_meta))\n",
        "print()\n",
        "print(\"accuracy: \", accuracy(cf_in)) \n",
        "print(\"recall: \", recall(cf_in)) \n",
        "print(\"F-score: \", F_score(cf_in)) \n",
        "print()\n",
        "print(\"Confusion matrix for out of sample data:\")\n",
        "print(pd.DataFrame(data=cf_out,**data_frame_meta))\n",
        "print()\n",
        "print(\"accuracy: \", accuracy(cf_out)) \n",
        "print(\"recall: \", recall(cf_out)) \n",
        "print(\"F-score: \", F_score(cf_out)) \n"
      ]
    },
    {
      "cell_type": "markdown",
      "metadata": {},
      "source": [
        "Calculating the confusion matrix for both in sample and out of sample data, provides some insight into the effectiveness of this forest. As can be seen, the tree shows stellar results for its in sample testing and great results for the out of sample. It is to be said, however, that with the current arrangement of hyperparameters the model in terms of accuracy predicts worse than the knn. It was clear from the results of the knn that this data is highly clustered (i.e. classes tend to be close to each other), with the tree being less capabable here. It is clear from the confusion matrix that this tree performs particularly well in classifying malignant data. This is reflected in that, out of 2142 malignant data points, only two were incorrectly classified (In the in sample scoring) and even better for the out of sample predictions with no wrong predictions on malignant data. However, perhaps this is an issue of sample size. Assuming the proportian of mislabeled malignant data points in the in sample data to be indicative of its actual accuracy in this category, the expectation for the more than ten times smaller out of sample data to mislabel a malignant data point is zero.\n",
        "\n",
        "On the other hand, it is quite clear that this model struggles with classifying benign points, with the out of sample test failing to classify one in three benign points. This proportion drops to one in seven for the in sample test however. This is exactly what is needed of the example."
      ]
    },
    {
      "cell_type": "markdown",
      "metadata": {
        "id": "vfN9uz1qy1L4"
      },
      "source": [
        "<a name=\"q23\"></a>\n",
        "\n",
        "## 2.3 [^](#outline)"
      ]
    },
    {
      "cell_type": "code",
      "execution_count": 279,
      "metadata": {},
      "outputs": [],
      "source": [
        "svm_X_train = np.hstack((tumour_X_train, np.ones((tumour_X_train.shape[0], 1))))\n",
        "svm_X_test  = np.hstack((tumour_X_test,  np.ones((tumour_X_test.shape[0], 1))))\n",
        "\n",
        "#if (1) i.e. malignant then transforms to (2 - 1 = 1) otherwise transforms to \n",
        "svm_y_train = (2 * tumour_y_train - 1).astype(float)\n",
        "svm_y_test  = (2 * tumour_y_test - 1).astype(float)"
      ]
    },
    {
      "cell_type": "code",
      "execution_count": 280,
      "metadata": {},
      "outputs": [],
      "source": [
        "def compute_cost(w, X, y, regul_strength=1e5):\n",
        "    n = X.shape[0]\n",
        "    distances = 1 - y * (X @ w)  \n",
        "    distances[distances < 0] = 0  \n",
        "    hinge = regul_strength * distances.mean() \n",
        "\n",
        "    # calculate cost\n",
        "    return 0.5 * np.dot(w, w) + hinge"
      ]
    },
    {
      "cell_type": "code",
      "execution_count": 281,
      "metadata": {},
      "outputs": [],
      "source": [
        "def calculate_cost_gradient(w, X_batch, y_batch, regul_strength=1e5):\n",
        "    # if only one example is passed\n",
        "    if type(y_batch) == np.float64:\n",
        "        y_batch = np.asarray([y_batch])\n",
        "        X_batch = np.asarray([X_batch])  \n",
        "        \n",
        "    distance = 1 - (y_batch * (X_batch @ w))\n",
        "    dw = np.zeros(len(w))\n",
        "\n",
        "    for ind, d in enumerate(distance):\n",
        "        if max(0, d)==0:\n",
        "            di = w\n",
        "        else:\n",
        "            di = w - (regul_strength * y_batch[ind] * X_batch[ind])\n",
        "        dw += di\n",
        "\n",
        "    return dw/len(y_batch)  # average"
      ]
    },
    {
      "cell_type": "code",
      "execution_count": 282,
      "metadata": {},
      "outputs": [],
      "source": [
        "def sgd(X, y, batch_size=16, max_iterations=2000, stop_criterion=0.01, learning_rate=1e-5, regul_strength=1e5, print_outcome=False):\n",
        "    # initialise zero weights\n",
        "    weights = np.zeros(X.shape[1])\n",
        "    nth = 0\n",
        "    # initialise starting cost as infinity\n",
        "    prev_cost = np.inf\n",
        "    \n",
        "    # stochastic gradient descent\n",
        "    indices = np.arange(len(y))\n",
        "    for iteration in range(1, max_iterations):\n",
        "        # shuffle to prevent repeating update cycles\n",
        "        np.random.shuffle(indices)\n",
        "        batch_idx = indices[:batch_size]\n",
        "        X_b, y_b = X[batch_idx], y[batch_idx]\n",
        "        for xi, yi in zip(X_b, y_b):\n",
        "            ascent = calculate_cost_gradient(weights, xi, yi, regul_strength) ## <-- SOLUTION\n",
        "            weights = weights - (learning_rate * ascent)\n",
        "\n",
        "        # convergence check on 2^n'th iteration\n",
        "        if iteration==2**nth or iteration==max_iterations-1:\n",
        "            # compute cost\n",
        "            cost = compute_cost(weights, X, y, regul_strength)  ## <-- SOLUTION\n",
        "            if print_outcome:\n",
        "                print(\"Iteration is: {}, Cost is: {}\".format(iteration, cost))\n",
        "            # stop criterion\n",
        "            if abs(prev_cost - cost) < stop_criterion * prev_cost:\n",
        "                return weights\n",
        "              \n",
        "            prev_cost = cost\n",
        "            nth += 1\n",
        "    \n",
        "    return weights"
      ]
    },
    {
      "cell_type": "code",
      "execution_count": 283,
      "metadata": {},
      "outputs": [],
      "source": [
        "def svm_pred(X_train, y_train, X_test, hardness):\n",
        "    w = sgd(X_train, y_train, regul_strength=hardness)\n",
        "\n",
        "    return np.sign(lin_pred(X_test, w))"
      ]
    },
    {
      "cell_type": "code",
      "execution_count": 284,
      "metadata": {},
      "outputs": [],
      "source": [
        "hardness_set = np.linspace(0, 100, 301)[1:]\n",
        "svm_error = scan_lambda(\n",
        "    hardness_set,\n",
        "    tumour_fold_indicies,\n",
        "    svm_X_train,\n",
        "    svm_y_train,\n",
        "    svm_pred,\n",
        "    knn_score)"
      ]
    },
    {
      "cell_type": "code",
      "execution_count": 285,
      "metadata": {},
      "outputs": [
        {
          "name": "stdout",
          "output_type": "stream",
          "text": [
            "Optimal svm hardness:  97.66666666666666\n"
          ]
        },
        {
          "data": {
            "image/png": "[encoded data removed]",
            "text/plain": [
              "<Figure size 432x288 with 1 Axes>"
            ]
          },
          "metadata": {
            "needs_background": "light"
          },
          "output_type": "display_data"
        }
      ],
      "source": [
        "print(\"Optimal svm hardness: \", hardness_set[np.argmax(svm_error)])\n",
        "\n",
        "plt.figure()\n",
        "plt.title(\"Scan for optimal hardness for svm\")\n",
        "plt.xlabel(\"hardness\")\n",
        "plt.ylabel(\"accuracy\")\n",
        "plt.plot(hardness_set, svm_error)\n",
        "plt.show()"
      ]
    },
    {
      "cell_type": "markdown",
      "metadata": {},
      "source": [
        "Clearly, the above graph shows the consequences of low hardness value, which reduces the accuracy of the predictor. However, choosing a greater a greater hardness may increase the computational cost of algorithm and may be slow to compute. The general trend for this graph (and in fact all graphs) is that a greater hardness value implies a greater accuracy. "
      ]
    },
    {
      "cell_type": "code",
      "execution_count": 286,
      "metadata": {},
      "outputs": [],
      "source": [
        "from functools import cmp_to_key"
      ]
    },
    {
      "cell_type": "code",
      "execution_count": 287,
      "metadata": {},
      "outputs": [],
      "source": [
        "def roc_svm(hardness_set, X_train, y_train, X_test, y_test):\n",
        "    svm_tpr = np.zeros(len(hardness_set) + 2)\n",
        "    svm_fpr = np.zeros(len(hardness_set) + 2)\n",
        "\n",
        "    svm_tpr[-1] = svm_fpr[-1] = 1\n",
        "\n",
        "    for i , hardness in enumerate(hardness_set):\n",
        "        prediction = svm_pred(X_train, y_train, X_test,hardness)\n",
        "\n",
        "        conf_matrix = np.zeros((2, 2))\n",
        "        for pred_i, actual_i in zip(prediction, y_test):\n",
        "            conf_matrix[int(pred_i + 1)//2, int(actual_i + 1)//2] += 1\n",
        "\n",
        "        svm_tpr[i+1] = conf_matrix[1, 1] / (conf_matrix[1, 1] + conf_matrix[0, 1])\n",
        "        svm_fpr[i+1] = 1 - conf_matrix[0, 0] / (conf_matrix[0, 0] + conf_matrix[1, 0])\n",
        "\n",
        "    def comp(lhs, rhs):\n",
        "        if lhs[0] > rhs[0]:\n",
        "            return 1\n",
        "        elif lhs[0] < rhs[0]:\n",
        "            return -1\n",
        "        else:\n",
        "            if lhs[1] > rhs[1]:\n",
        "                return 1\n",
        "            elif lhs[1] < rhs[1]:\n",
        "                return -1\n",
        "            else:\n",
        "                return 0\n",
        "\n",
        "    sorted_fpr_trp = sorted(zip(svm_fpr, svm_tpr), key=cmp_to_key(comp))\n",
        "    \n",
        "    return list(zip(*sorted_fpr_trp))"
      ]
    },
    {
      "cell_type": "code",
      "execution_count": 288,
      "metadata": {},
      "outputs": [
        {
          "name": "stdout",
          "output_type": "stream",
          "text": [
            "AUC: 0.9784812857296947\n"
          ]
        },
        {
          "data": {
            "text/plain": [
              "[<matplotlib.lines.Line2D at 0x1c66e00af40>]"
            ]
          },
          "execution_count": 288,
          "metadata": {},
          "output_type": "execute_result"
        },
        {
          "data": {
            "image/png": "[encoded data removed]",
            "text/plain": [
              "<Figure size 432x288 with 1 Axes>"
            ]
          },
          "metadata": {
            "needs_background": "light"
          },
          "output_type": "display_data"
        }
      ],
      "source": [
        "\n",
        "\n",
        "hardness_set_roc = np.linspace(0, 100, 101)\n",
        "fpr, tpr = roc_svm(hardness_set_roc, svm_X_train, svm_y_train, svm_X_test, svm_y_test)\n",
        "\n",
        "print(\"AUC:\", np.trapz(tpr, x=fpr))\n",
        "plt.title(\"ROC curve for svm on tumour samples\")\n",
        "plt.xlabel(\"FPR\")\n",
        "plt.ylabel(\"TPR\")\n",
        "plt.plot([0, 1], [0, 1], color=\"red\", linestyle=\"--\")\n",
        "plt.plot(fpr, tpr)"
      ]
    },
    {
      "cell_type": "code",
      "execution_count": 310,
      "metadata": {},
      "outputs": [],
      "source": [
        "tumour_bal_X_train_raw, tumour_bal_y_train = read_csv(\"../res/tumour_samples.csv\")\n",
        "\n",
        "tumour_bal_X_train = standardise(tumour_bal_X_train_raw[:, 1:])\n",
        "tumour_bal_X_train = np.hstack((tumour_bal_X_train,  np.ones((tumour_bal_X_train.shape[0], 1))))\n",
        "\n",
        "tumour_bal_y_train = np.where(tumour_bal_y_train == \"B\", 1, -1).ravel().astype(float)"
      ]
    },
    {
      "cell_type": "code",
      "execution_count": 311,
      "metadata": {},
      "outputs": [],
      "source": [
        "tumour_bal_indicies = np.random.permutation(np.arange(len(tumour_bal_X_train)))\n",
        "tumour_bal_fold_indicies = np.array_split(tumour_bal_indicies, 5)"
      ]
    },
    {
      "cell_type": "code",
      "execution_count": 312,
      "metadata": {},
      "outputs": [],
      "source": [
        "svm_bal_error = scan_lambda(\n",
        "    hardness_set,\n",
        "    tumour_bal_fold_indicies,\n",
        "    tumour_bal_X_train,\n",
        "    tumour_bal_y_train,\n",
        "    svm_pred,\n",
        "    knn_score)\n"
      ]
    },
    {
      "cell_type": "code",
      "execution_count": 313,
      "metadata": {},
      "outputs": [
        {
          "name": "stdout",
          "output_type": "stream",
          "text": [
            "Optimal svm hardness:  93.0\n"
          ]
        },
        {
          "data": {
            "image/png": "[encoded data removed]",
            "text/plain": [
              "<Figure size 432x288 with 1 Axes>"
            ]
          },
          "metadata": {
            "needs_background": "light"
          },
          "output_type": "display_data"
        }
      ],
      "source": [
        "print(\"Optimal svm hardness: \", hardness_set[np.argmax(svm_bal_error)])\n",
        "\n",
        "plt.figure()\n",
        "plt.title(\"Scan of optimal hardness for balanced tumourt sample svm\")\n",
        "plt.xlabel(\"hardness\")\n",
        "plt.ylabel(\"accuracy\")\n",
        "plt.plot(hardness_set, svm_bal_error)\n",
        "plt.show()"
      ]
    },
    {
      "cell_type": "code",
      "execution_count": 314,
      "metadata": {},
      "outputs": [
        {
          "name": "stdout",
          "output_type": "stream",
          "text": [
            "AUC: 0.9742746197821163\n"
          ]
        },
        {
          "data": {
            "text/plain": [
              "[<matplotlib.lines.Line2D at 0x1c66e3b4130>]"
            ]
          },
          "execution_count": 314,
          "metadata": {},
          "output_type": "execute_result"
        },
        {
          "data": {
            "image/png": "[encoded data removed]",
            "text/plain": [
              "<Figure size 432x288 with 1 Axes>"
            ]
          },
          "metadata": {
            "needs_background": "light"
          },
          "output_type": "display_data"
        }
      ],
      "source": [
        "fpr_bal, tpr_bal = roc_svm(hardness_set_roc, tumour_bal_X_train, tumour_bal_y_train, svm_X_test, svm_y_test)\n",
        "\n",
        "print(\"AUC:\", np.trapz(tpr_bal, x=fpr_bal))\n",
        "plt.title(\"ROC curve for svm on balanced tumour samples\")\n",
        "plt.xlabel(\"FPR\")\n",
        "plt.ylabel(\"TPR\")\n",
        "plt.plot([0, 1], [0, 1], color=\"red\", linestyle=\"--\")\n",
        "plt.plot(fpr_bal, tpr_bal)"
      ]
    },
    {
      "cell_type": "markdown",
      "metadata": {},
      "source": [
        "The ROC curves reflect a good classification exactly where one would want it to be. The balanced data does show a slighly better curve overall, with more values pushed towards the upper-left corner."
      ]
    },
    {
      "cell_type": "markdown",
      "metadata": {
        "id": "MlwygRTDy1fb"
      },
      "source": [
        "<a name=\"task-3\"></a>\n",
        "\n",
        "# Task 3: Mastery Component [^](#outline)"
      ]
    },
    {
      "cell_type": "markdown",
      "metadata": {
        "id": "NdYowG2Ny1qx"
      },
      "source": [
        "<a name=\"q31\"></a>\n",
        "\n",
        "## 3.1 [^](#outline)"
      ]
    },
    {
      "cell_type": "markdown",
      "metadata": {
        "id": "9XbuLm6qy100"
      },
      "source": [
        "<a name=\"q32\"></a>\n",
        "\n",
        "## 3.2 [^](#outline)"
      ]
    }
  ],
  "metadata": {
    "colab": {
      "collapsed_sections": [],
      "name": "SurnameCID_CW1.ipynb",
      "provenance": []
    },
    "kernelspec": {
      "display_name": "Python 3.9.10 64-bit",
      "language": "python",
      "name": "python3"
    },
    "language_info": {
      "codemirror_mode": {
        "name": "ipython",
        "version": 3
      },
      "file_extension": ".py",
      "mimetype": "text/x-python",
      "name": "python",
      "nbconvert_exporter": "python",
      "pygments_lexer": "ipython3",
      "version": "3.9.10"
    },
    "vscode": {
      "interpreter": {
        "hash": "d19cf9935b1949c302a118a1076556b0f66f9b39da92b8d99582d59f54d25c43"
      }
    }
  },
  "nbformat": 4,
  "nbformat_minor": 0
}
